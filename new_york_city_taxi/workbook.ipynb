{
 "cells": [
  {
   "cell_type": "code",
   "execution_count": 25,
   "metadata": {
    "collapsed": false
   },
   "outputs": [
    {
     "name": "stdout",
     "output_type": "stream",
     "text": [
      "Populating the interactive namespace from numpy and matplotlib\n"
     ]
    },
    {
     "name": "stderr",
     "output_type": "stream",
     "text": [
      "/home/victor/anaconda2/lib/python2.7/site-packages/IPython/core/magics/pylab.py:161: UserWarning: pylab import has clobbered these variables: ['title', 'test']\n",
      "`%matplotlib` prevents importing * from pylab and numpy\n",
      "  \"\\n`%matplotlib` prevents importing * from pylab and numpy\"\n"
     ]
    }
   ],
   "source": [
    "import os\n",
    "import pandas as pd\n",
    "from StringIO import StringIO\n",
    "import datetime\n",
    "import numpy as np\n",
    "import matplotlib.pyplot as plt\n",
    "import seaborn as sns\n",
    "\n",
    "\n",
    "#For weather scraping\n",
    "import urllib2\n",
    "import json\n",
    "import re\n",
    "%pylab inline \n",
    "\n",
    "from haversine import haversine\n",
    "\n",
    "# Machine Learning Models\n",
    "from sklearn import linear_model\n",
    "from sklearn.ensemble import RandomForestRegressor\n",
    "from sklearn.svm import SVR\n",
    "\n",
    "# Machine Learning tools\n",
    "from sklearn.feature_selection import SelectFromModel\n",
    "from sklearn.model_selection import train_test_split, learning_curve\n",
    "from sklearn.model_selection import cross_val_predict, cross_val_score, GridSearchCV\n",
    "from sklearn.metrics import make_scorer, mean_squared_error\n",
    "from sklearn.preprocessing import PolynomialFeatures, StandardScaler\n",
    "from sklearn.pipeline import make_pipeline\n"
   ]
  },
  {
   "cell_type": "code",
   "execution_count": 26,
   "metadata": {
    "collapsed": false
   },
   "outputs": [],
   "source": [
    "current_dir = os.path.abspath('.')\n",
    "train_url = current_dir + '/data/train.csv'\n",
    "test_url = current_dir + '/data/test.csv'\n",
    "raw_train = pd.read_csv(train_url)\n",
    "raw_test = pd.read_csv(test_url)"
   ]
  },
  {
   "cell_type": "code",
   "execution_count": 27,
   "metadata": {
    "collapsed": true
   },
   "outputs": [],
   "source": [
    "train = raw_train.copy()\n",
    "test = raw_test.copy()"
   ]
  },
  {
   "cell_type": "code",
   "execution_count": 28,
   "metadata": {
    "collapsed": false,
    "scrolled": true
   },
   "outputs": [
    {
     "data": {
      "text/html": [
       "<div>\n",
       "<table border=\"1\" class=\"dataframe\">\n",
       "  <thead>\n",
       "    <tr style=\"text-align: right;\">\n",
       "      <th></th>\n",
       "      <th>id</th>\n",
       "      <th>vendor_id</th>\n",
       "      <th>pickup_datetime</th>\n",
       "      <th>dropoff_datetime</th>\n",
       "      <th>passenger_count</th>\n",
       "      <th>pickup_longitude</th>\n",
       "      <th>pickup_latitude</th>\n",
       "      <th>dropoff_longitude</th>\n",
       "      <th>dropoff_latitude</th>\n",
       "      <th>store_and_fwd_flag</th>\n",
       "      <th>trip_duration</th>\n",
       "    </tr>\n",
       "  </thead>\n",
       "  <tbody>\n",
       "    <tr>\n",
       "      <th>count</th>\n",
       "      <td>1458644</td>\n",
       "      <td>1.458644e+06</td>\n",
       "      <td>1458644</td>\n",
       "      <td>1458644</td>\n",
       "      <td>1.458644e+06</td>\n",
       "      <td>1.458644e+06</td>\n",
       "      <td>1.458644e+06</td>\n",
       "      <td>1.458644e+06</td>\n",
       "      <td>1.458644e+06</td>\n",
       "      <td>1458644</td>\n",
       "      <td>1.458644e+06</td>\n",
       "    </tr>\n",
       "    <tr>\n",
       "      <th>unique</th>\n",
       "      <td>1458644</td>\n",
       "      <td>NaN</td>\n",
       "      <td>1380222</td>\n",
       "      <td>1380377</td>\n",
       "      <td>NaN</td>\n",
       "      <td>NaN</td>\n",
       "      <td>NaN</td>\n",
       "      <td>NaN</td>\n",
       "      <td>NaN</td>\n",
       "      <td>2</td>\n",
       "      <td>NaN</td>\n",
       "    </tr>\n",
       "    <tr>\n",
       "      <th>top</th>\n",
       "      <td>id2220643</td>\n",
       "      <td>NaN</td>\n",
       "      <td>2016-04-05 18:55:21</td>\n",
       "      <td>2016-05-16 19:40:28</td>\n",
       "      <td>NaN</td>\n",
       "      <td>NaN</td>\n",
       "      <td>NaN</td>\n",
       "      <td>NaN</td>\n",
       "      <td>NaN</td>\n",
       "      <td>N</td>\n",
       "      <td>NaN</td>\n",
       "    </tr>\n",
       "    <tr>\n",
       "      <th>freq</th>\n",
       "      <td>1</td>\n",
       "      <td>NaN</td>\n",
       "      <td>5</td>\n",
       "      <td>5</td>\n",
       "      <td>NaN</td>\n",
       "      <td>NaN</td>\n",
       "      <td>NaN</td>\n",
       "      <td>NaN</td>\n",
       "      <td>NaN</td>\n",
       "      <td>1450599</td>\n",
       "      <td>NaN</td>\n",
       "    </tr>\n",
       "    <tr>\n",
       "      <th>mean</th>\n",
       "      <td>NaN</td>\n",
       "      <td>1.534950e+00</td>\n",
       "      <td>NaN</td>\n",
       "      <td>NaN</td>\n",
       "      <td>1.664530e+00</td>\n",
       "      <td>-7.397349e+01</td>\n",
       "      <td>4.075092e+01</td>\n",
       "      <td>-7.397342e+01</td>\n",
       "      <td>4.075180e+01</td>\n",
       "      <td>NaN</td>\n",
       "      <td>9.594923e+02</td>\n",
       "    </tr>\n",
       "    <tr>\n",
       "      <th>std</th>\n",
       "      <td>NaN</td>\n",
       "      <td>4.987772e-01</td>\n",
       "      <td>NaN</td>\n",
       "      <td>NaN</td>\n",
       "      <td>1.314242e+00</td>\n",
       "      <td>7.090186e-02</td>\n",
       "      <td>3.288119e-02</td>\n",
       "      <td>7.064327e-02</td>\n",
       "      <td>3.589056e-02</td>\n",
       "      <td>NaN</td>\n",
       "      <td>5.237432e+03</td>\n",
       "    </tr>\n",
       "    <tr>\n",
       "      <th>min</th>\n",
       "      <td>NaN</td>\n",
       "      <td>1.000000e+00</td>\n",
       "      <td>NaN</td>\n",
       "      <td>NaN</td>\n",
       "      <td>0.000000e+00</td>\n",
       "      <td>-1.219333e+02</td>\n",
       "      <td>3.435970e+01</td>\n",
       "      <td>-1.219333e+02</td>\n",
       "      <td>3.218114e+01</td>\n",
       "      <td>NaN</td>\n",
       "      <td>1.000000e+00</td>\n",
       "    </tr>\n",
       "    <tr>\n",
       "      <th>25%</th>\n",
       "      <td>NaN</td>\n",
       "      <td>1.000000e+00</td>\n",
       "      <td>NaN</td>\n",
       "      <td>NaN</td>\n",
       "      <td>1.000000e+00</td>\n",
       "      <td>-7.399187e+01</td>\n",
       "      <td>4.073735e+01</td>\n",
       "      <td>-7.399133e+01</td>\n",
       "      <td>4.073588e+01</td>\n",
       "      <td>NaN</td>\n",
       "      <td>3.970000e+02</td>\n",
       "    </tr>\n",
       "    <tr>\n",
       "      <th>50%</th>\n",
       "      <td>NaN</td>\n",
       "      <td>2.000000e+00</td>\n",
       "      <td>NaN</td>\n",
       "      <td>NaN</td>\n",
       "      <td>1.000000e+00</td>\n",
       "      <td>-7.398174e+01</td>\n",
       "      <td>4.075410e+01</td>\n",
       "      <td>-7.397975e+01</td>\n",
       "      <td>4.075452e+01</td>\n",
       "      <td>NaN</td>\n",
       "      <td>6.620000e+02</td>\n",
       "    </tr>\n",
       "    <tr>\n",
       "      <th>75%</th>\n",
       "      <td>NaN</td>\n",
       "      <td>2.000000e+00</td>\n",
       "      <td>NaN</td>\n",
       "      <td>NaN</td>\n",
       "      <td>2.000000e+00</td>\n",
       "      <td>-7.396733e+01</td>\n",
       "      <td>4.076836e+01</td>\n",
       "      <td>-7.396301e+01</td>\n",
       "      <td>4.076981e+01</td>\n",
       "      <td>NaN</td>\n",
       "      <td>1.075000e+03</td>\n",
       "    </tr>\n",
       "    <tr>\n",
       "      <th>max</th>\n",
       "      <td>NaN</td>\n",
       "      <td>2.000000e+00</td>\n",
       "      <td>NaN</td>\n",
       "      <td>NaN</td>\n",
       "      <td>9.000000e+00</td>\n",
       "      <td>-6.133553e+01</td>\n",
       "      <td>5.188108e+01</td>\n",
       "      <td>-6.133553e+01</td>\n",
       "      <td>4.392103e+01</td>\n",
       "      <td>NaN</td>\n",
       "      <td>3.526282e+06</td>\n",
       "    </tr>\n",
       "  </tbody>\n",
       "</table>\n",
       "</div>"
      ],
      "text/plain": [
       "               id     vendor_id      pickup_datetime     dropoff_datetime  \\\n",
       "count     1458644  1.458644e+06              1458644              1458644   \n",
       "unique    1458644           NaN              1380222              1380377   \n",
       "top     id2220643           NaN  2016-04-05 18:55:21  2016-05-16 19:40:28   \n",
       "freq            1           NaN                    5                    5   \n",
       "mean          NaN  1.534950e+00                  NaN                  NaN   \n",
       "std           NaN  4.987772e-01                  NaN                  NaN   \n",
       "min           NaN  1.000000e+00                  NaN                  NaN   \n",
       "25%           NaN  1.000000e+00                  NaN                  NaN   \n",
       "50%           NaN  2.000000e+00                  NaN                  NaN   \n",
       "75%           NaN  2.000000e+00                  NaN                  NaN   \n",
       "max           NaN  2.000000e+00                  NaN                  NaN   \n",
       "\n",
       "        passenger_count  pickup_longitude  pickup_latitude  dropoff_longitude  \\\n",
       "count      1.458644e+06      1.458644e+06     1.458644e+06       1.458644e+06   \n",
       "unique              NaN               NaN              NaN                NaN   \n",
       "top                 NaN               NaN              NaN                NaN   \n",
       "freq                NaN               NaN              NaN                NaN   \n",
       "mean       1.664530e+00     -7.397349e+01     4.075092e+01      -7.397342e+01   \n",
       "std        1.314242e+00      7.090186e-02     3.288119e-02       7.064327e-02   \n",
       "min        0.000000e+00     -1.219333e+02     3.435970e+01      -1.219333e+02   \n",
       "25%        1.000000e+00     -7.399187e+01     4.073735e+01      -7.399133e+01   \n",
       "50%        1.000000e+00     -7.398174e+01     4.075410e+01      -7.397975e+01   \n",
       "75%        2.000000e+00     -7.396733e+01     4.076836e+01      -7.396301e+01   \n",
       "max        9.000000e+00     -6.133553e+01     5.188108e+01      -6.133553e+01   \n",
       "\n",
       "        dropoff_latitude store_and_fwd_flag  trip_duration  \n",
       "count       1.458644e+06            1458644   1.458644e+06  \n",
       "unique               NaN                  2            NaN  \n",
       "top                  NaN                  N            NaN  \n",
       "freq                 NaN            1450599            NaN  \n",
       "mean        4.075180e+01                NaN   9.594923e+02  \n",
       "std         3.589056e-02                NaN   5.237432e+03  \n",
       "min         3.218114e+01                NaN   1.000000e+00  \n",
       "25%         4.073588e+01                NaN   3.970000e+02  \n",
       "50%         4.075452e+01                NaN   6.620000e+02  \n",
       "75%         4.076981e+01                NaN   1.075000e+03  \n",
       "max         4.392103e+01                NaN   3.526282e+06  "
      ]
     },
     "execution_count": 28,
     "metadata": {},
     "output_type": "execute_result"
    }
   ],
   "source": [
    "raw_train.describe(include='all')"
   ]
  },
  {
   "cell_type": "code",
   "execution_count": 29,
   "metadata": {
    "collapsed": false
   },
   "outputs": [
    {
     "data": {
      "text/plain": [
       "{'dropoff_datetime', 'trip_duration'}"
      ]
     },
     "execution_count": 29,
     "metadata": {},
     "output_type": "execute_result"
    }
   ],
   "source": [
    "# See what columns are absent in test data\n",
    "train_columns = set(train.columns)\n",
    "test_columns = set(test.columns)\n",
    "train_columns.difference(test_columns)"
   ]
  },
  {
   "cell_type": "code",
   "execution_count": 30,
   "metadata": {
    "collapsed": true
   },
   "outputs": [],
   "source": [
    "# We cannot use dropoff_datetime to train our model\n",
    "del train['dropoff_datetime']"
   ]
  },
  {
   "cell_type": "markdown",
   "metadata": {},
   "source": [
    "# Datetime"
   ]
  },
  {
   "cell_type": "code",
   "execution_count": 31,
   "metadata": {
    "collapsed": true
   },
   "outputs": [],
   "source": [
    "train['pickup_datetime'] = pd.to_datetime(train['pickup_datetime'])\n",
    "test['pickup_datetime'] = pd.to_datetime(test['pickup_datetime'])\n"
   ]
  },
  {
   "cell_type": "code",
   "execution_count": 40,
   "metadata": {
    "collapsed": false
   },
   "outputs": [],
   "source": [
    "train['pickup_day'] = train['pickup_datetime'].dt.day\n",
    "train['pickup_date'] = train['pickup_datetime'].dt.date\n",
    "train['pickup_weekday'] = train['pickup_datetime'].dt.weekday\n",
    "train['pickup_hour'] = train['pickup_datetime'].dt.hour\n",
    "train['pickup_month'] = train['pickup_datetime'].dt.month\n",
    "\n",
    "\n",
    "test['pickup_day'] = test['pickup_datetime'].dt.day\n",
    "test['pickup_date'] = test['pickup_datetime'].dt.date\n",
    "test['pickup_weekday'] = test['pickup_datetime'].dt.weekday\n",
    "test['pickup_hour'] = test['pickup_datetime'].dt.hour\n",
    "test['pickup_month'] = test['pickup_datetime'].dt.month\n"
   ]
  },
  {
   "cell_type": "code",
   "execution_count": 33,
   "metadata": {
    "collapsed": true
   },
   "outputs": [],
   "source": [
    "train['pickup_isweekend'] = train['pickup_weekday'].apply(lambda x: 1 if x >= 5 else 0)\n",
    "test['pickup_isweekend'] = test['pickup_weekday'].apply(lambda x: 1 if x >= 5 else 0)"
   ]
  },
  {
   "cell_type": "code",
   "execution_count": 34,
   "metadata": {
    "collapsed": false
   },
   "outputs": [],
   "source": [
    "def pickup_ampm(x):\n",
    "    if x >= 6 and x <= 12:\n",
    "        #morning\n",
    "        return 'morning'\n",
    "    elif x > 12 and x <= 18:\n",
    "        #afternoon\n",
    "        return 'afternoon'\n",
    "    elif x > 18 and x <= 22:\n",
    "        #evening\n",
    "        return 'evening'\n",
    "    else:\n",
    "        #night\n",
    "        return 'night'"
   ]
  },
  {
   "cell_type": "code",
   "execution_count": 35,
   "metadata": {
    "collapsed": true
   },
   "outputs": [],
   "source": [
    "# midnight, morning, afternoon, night\n",
    "train['pickup_moment'] = train['pickup_hour'].apply(pickup_ampm)\n",
    "test['pickup_moment'] = test['pickup_hour'].apply(pickup_ampm)"
   ]
  },
  {
   "cell_type": "code",
   "execution_count": 36,
   "metadata": {
    "collapsed": false,
    "scrolled": true
   },
   "outputs": [
    {
     "data": {
      "text/plain": [
       "<matplotlib.text.Text at 0x7f8412fa0f90>"
      ]
     },
     "execution_count": 36,
     "metadata": {},
     "output_type": "execute_result"
    },
    {
     "data": {
      "image/png": "[encoded data removed]",
      "text/plain": [
       "<matplotlib.figure.Figure at 0x7f8456873e90>"
      ]
     },
     "metadata": {},
     "output_type": "display_data"
    }
   ],
   "source": [
    "plt.figure(figsize=(10,5))\n",
    "sns.countplot(train['pickup_moment'])\n",
    "plt.xlabel('Moment of the day')\n",
    "plt.ylabel('Number of trips')\n",
    "plt.title('Number of taxi trips during the day', fontsize=17)"
   ]
  },
  {
   "cell_type": "markdown",
   "metadata": {},
   "source": [
    "# Store and fwd flag"
   ]
  },
  {
   "cell_type": "code",
   "execution_count": 37,
   "metadata": {
    "collapsed": false
   },
   "outputs": [],
   "source": [
    "train['store_and_fwd_flag'] = train['store_and_fwd_flag'].apply(lambda x: 1 if x == 'Y' else 0)\n",
    "test['store_and_fwd_flag'] = test['store_and_fwd_flag'].apply(lambda x: 1 if x == 'Y' else 0)"
   ]
  },
  {
   "cell_type": "code",
   "execution_count": 38,
   "metadata": {
    "collapsed": false,
    "scrolled": true
   },
   "outputs": [
    {
     "data": {
      "text/html": [
       "<div>\n",
       "<table border=\"1\" class=\"dataframe\">\n",
       "  <thead>\n",
       "    <tr style=\"text-align: right;\">\n",
       "      <th></th>\n",
       "      <th>id</th>\n",
       "      <th>vendor_id</th>\n",
       "      <th>pickup_datetime</th>\n",
       "      <th>passenger_count</th>\n",
       "      <th>pickup_longitude</th>\n",
       "      <th>pickup_latitude</th>\n",
       "      <th>dropoff_longitude</th>\n",
       "      <th>dropoff_latitude</th>\n",
       "      <th>store_and_fwd_flag</th>\n",
       "      <th>trip_duration</th>\n",
       "      <th>pickup_day</th>\n",
       "      <th>pickup_weekday</th>\n",
       "      <th>pickup_hour</th>\n",
       "      <th>pickup_month</th>\n",
       "      <th>pickup_isweekend</th>\n",
       "      <th>pickup_moment</th>\n",
       "    </tr>\n",
       "  </thead>\n",
       "  <tbody>\n",
       "    <tr>\n",
       "      <th>count</th>\n",
       "      <td>1458644</td>\n",
       "      <td>1.458644e+06</td>\n",
       "      <td>1458644</td>\n",
       "      <td>1.458644e+06</td>\n",
       "      <td>1.458644e+06</td>\n",
       "      <td>1.458644e+06</td>\n",
       "      <td>1.458644e+06</td>\n",
       "      <td>1.458644e+06</td>\n",
       "      <td>1.458644e+06</td>\n",
       "      <td>1.458644e+06</td>\n",
       "      <td>1.458644e+06</td>\n",
       "      <td>1.458644e+06</td>\n",
       "      <td>1.458644e+06</td>\n",
       "      <td>1.458644e+06</td>\n",
       "      <td>1.458644e+06</td>\n",
       "      <td>1458644</td>\n",
       "    </tr>\n",
       "    <tr>\n",
       "      <th>unique</th>\n",
       "      <td>1458644</td>\n",
       "      <td>NaN</td>\n",
       "      <td>1380222</td>\n",
       "      <td>NaN</td>\n",
       "      <td>NaN</td>\n",
       "      <td>NaN</td>\n",
       "      <td>NaN</td>\n",
       "      <td>NaN</td>\n",
       "      <td>NaN</td>\n",
       "      <td>NaN</td>\n",
       "      <td>NaN</td>\n",
       "      <td>NaN</td>\n",
       "      <td>NaN</td>\n",
       "      <td>NaN</td>\n",
       "      <td>NaN</td>\n",
       "      <td>4</td>\n",
       "    </tr>\n",
       "    <tr>\n",
       "      <th>top</th>\n",
       "      <td>id2220643</td>\n",
       "      <td>NaN</td>\n",
       "      <td>2016-03-04 08:07:34</td>\n",
       "      <td>NaN</td>\n",
       "      <td>NaN</td>\n",
       "      <td>NaN</td>\n",
       "      <td>NaN</td>\n",
       "      <td>NaN</td>\n",
       "      <td>NaN</td>\n",
       "      <td>NaN</td>\n",
       "      <td>NaN</td>\n",
       "      <td>NaN</td>\n",
       "      <td>NaN</td>\n",
       "      <td>NaN</td>\n",
       "      <td>NaN</td>\n",
       "      <td>afternoon</td>\n",
       "    </tr>\n",
       "    <tr>\n",
       "      <th>freq</th>\n",
       "      <td>1</td>\n",
       "      <td>NaN</td>\n",
       "      <td>5</td>\n",
       "      <td>NaN</td>\n",
       "      <td>NaN</td>\n",
       "      <td>NaN</td>\n",
       "      <td>NaN</td>\n",
       "      <td>NaN</td>\n",
       "      <td>NaN</td>\n",
       "      <td>NaN</td>\n",
       "      <td>NaN</td>\n",
       "      <td>NaN</td>\n",
       "      <td>NaN</td>\n",
       "      <td>NaN</td>\n",
       "      <td>NaN</td>\n",
       "      <td>448972</td>\n",
       "    </tr>\n",
       "    <tr>\n",
       "      <th>first</th>\n",
       "      <td>NaN</td>\n",
       "      <td>NaN</td>\n",
       "      <td>2016-01-01 00:00:17</td>\n",
       "      <td>NaN</td>\n",
       "      <td>NaN</td>\n",
       "      <td>NaN</td>\n",
       "      <td>NaN</td>\n",
       "      <td>NaN</td>\n",
       "      <td>NaN</td>\n",
       "      <td>NaN</td>\n",
       "      <td>NaN</td>\n",
       "      <td>NaN</td>\n",
       "      <td>NaN</td>\n",
       "      <td>NaN</td>\n",
       "      <td>NaN</td>\n",
       "      <td>NaN</td>\n",
       "    </tr>\n",
       "    <tr>\n",
       "      <th>last</th>\n",
       "      <td>NaN</td>\n",
       "      <td>NaN</td>\n",
       "      <td>2016-06-30 23:59:39</td>\n",
       "      <td>NaN</td>\n",
       "      <td>NaN</td>\n",
       "      <td>NaN</td>\n",
       "      <td>NaN</td>\n",
       "      <td>NaN</td>\n",
       "      <td>NaN</td>\n",
       "      <td>NaN</td>\n",
       "      <td>NaN</td>\n",
       "      <td>NaN</td>\n",
       "      <td>NaN</td>\n",
       "      <td>NaN</td>\n",
       "      <td>NaN</td>\n",
       "      <td>NaN</td>\n",
       "    </tr>\n",
       "    <tr>\n",
       "      <th>mean</th>\n",
       "      <td>NaN</td>\n",
       "      <td>1.534950e+00</td>\n",
       "      <td>NaN</td>\n",
       "      <td>1.664530e+00</td>\n",
       "      <td>-7.397349e+01</td>\n",
       "      <td>4.075092e+01</td>\n",
       "      <td>-7.397342e+01</td>\n",
       "      <td>4.075180e+01</td>\n",
       "      <td>5.515396e-03</td>\n",
       "      <td>9.594923e+02</td>\n",
       "      <td>1.550402e+01</td>\n",
       "      <td>3.050375e+00</td>\n",
       "      <td>1.360648e+01</td>\n",
       "      <td>3.516818e+00</td>\n",
       "      <td>2.853568e-01</td>\n",
       "      <td>NaN</td>\n",
       "    </tr>\n",
       "    <tr>\n",
       "      <th>std</th>\n",
       "      <td>NaN</td>\n",
       "      <td>4.987772e-01</td>\n",
       "      <td>NaN</td>\n",
       "      <td>1.314242e+00</td>\n",
       "      <td>7.090186e-02</td>\n",
       "      <td>3.288119e-02</td>\n",
       "      <td>7.064327e-02</td>\n",
       "      <td>3.589056e-02</td>\n",
       "      <td>7.406066e-02</td>\n",
       "      <td>5.237432e+03</td>\n",
       "      <td>8.703135e+00</td>\n",
       "      <td>1.954039e+00</td>\n",
       "      <td>6.399693e+00</td>\n",
       "      <td>1.681038e+00</td>\n",
       "      <td>4.515844e-01</td>\n",
       "      <td>NaN</td>\n",
       "    </tr>\n",
       "    <tr>\n",
       "      <th>min</th>\n",
       "      <td>NaN</td>\n",
       "      <td>1.000000e+00</td>\n",
       "      <td>NaN</td>\n",
       "      <td>0.000000e+00</td>\n",
       "      <td>-1.219333e+02</td>\n",
       "      <td>3.435970e+01</td>\n",
       "      <td>-1.219333e+02</td>\n",
       "      <td>3.218114e+01</td>\n",
       "      <td>0.000000e+00</td>\n",
       "      <td>1.000000e+00</td>\n",
       "      <td>1.000000e+00</td>\n",
       "      <td>0.000000e+00</td>\n",
       "      <td>0.000000e+00</td>\n",
       "      <td>1.000000e+00</td>\n",
       "      <td>0.000000e+00</td>\n",
       "      <td>NaN</td>\n",
       "    </tr>\n",
       "    <tr>\n",
       "      <th>25%</th>\n",
       "      <td>NaN</td>\n",
       "      <td>1.000000e+00</td>\n",
       "      <td>NaN</td>\n",
       "      <td>1.000000e+00</td>\n",
       "      <td>-7.399187e+01</td>\n",
       "      <td>4.073735e+01</td>\n",
       "      <td>-7.399133e+01</td>\n",
       "      <td>4.073588e+01</td>\n",
       "      <td>0.000000e+00</td>\n",
       "      <td>3.970000e+02</td>\n",
       "      <td>8.000000e+00</td>\n",
       "      <td>1.000000e+00</td>\n",
       "      <td>9.000000e+00</td>\n",
       "      <td>2.000000e+00</td>\n",
       "      <td>0.000000e+00</td>\n",
       "      <td>NaN</td>\n",
       "    </tr>\n",
       "    <tr>\n",
       "      <th>50%</th>\n",
       "      <td>NaN</td>\n",
       "      <td>2.000000e+00</td>\n",
       "      <td>NaN</td>\n",
       "      <td>1.000000e+00</td>\n",
       "      <td>-7.398174e+01</td>\n",
       "      <td>4.075410e+01</td>\n",
       "      <td>-7.397975e+01</td>\n",
       "      <td>4.075452e+01</td>\n",
       "      <td>0.000000e+00</td>\n",
       "      <td>6.620000e+02</td>\n",
       "      <td>1.500000e+01</td>\n",
       "      <td>3.000000e+00</td>\n",
       "      <td>1.400000e+01</td>\n",
       "      <td>4.000000e+00</td>\n",
       "      <td>0.000000e+00</td>\n",
       "      <td>NaN</td>\n",
       "    </tr>\n",
       "    <tr>\n",
       "      <th>75%</th>\n",
       "      <td>NaN</td>\n",
       "      <td>2.000000e+00</td>\n",
       "      <td>NaN</td>\n",
       "      <td>2.000000e+00</td>\n",
       "      <td>-7.396733e+01</td>\n",
       "      <td>4.076836e+01</td>\n",
       "      <td>-7.396301e+01</td>\n",
       "      <td>4.076981e+01</td>\n",
       "      <td>0.000000e+00</td>\n",
       "      <td>1.075000e+03</td>\n",
       "      <td>2.300000e+01</td>\n",
       "      <td>5.000000e+00</td>\n",
       "      <td>1.900000e+01</td>\n",
       "      <td>5.000000e+00</td>\n",
       "      <td>1.000000e+00</td>\n",
       "      <td>NaN</td>\n",
       "    </tr>\n",
       "    <tr>\n",
       "      <th>max</th>\n",
       "      <td>NaN</td>\n",
       "      <td>2.000000e+00</td>\n",
       "      <td>NaN</td>\n",
       "      <td>9.000000e+00</td>\n",
       "      <td>-6.133553e+01</td>\n",
       "      <td>5.188108e+01</td>\n",
       "      <td>-6.133553e+01</td>\n",
       "      <td>4.392103e+01</td>\n",
       "      <td>1.000000e+00</td>\n",
       "      <td>3.526282e+06</td>\n",
       "      <td>3.100000e+01</td>\n",
       "      <td>6.000000e+00</td>\n",
       "      <td>2.300000e+01</td>\n",
       "      <td>6.000000e+00</td>\n",
       "      <td>1.000000e+00</td>\n",
       "      <td>NaN</td>\n",
       "    </tr>\n",
       "  </tbody>\n",
       "</table>\n",
       "</div>"
      ],
      "text/plain": [
       "               id     vendor_id      pickup_datetime  passenger_count  \\\n",
       "count     1458644  1.458644e+06              1458644     1.458644e+06   \n",
       "unique    1458644           NaN              1380222              NaN   \n",
       "top     id2220643           NaN  2016-03-04 08:07:34              NaN   \n",
       "freq            1           NaN                    5              NaN   \n",
       "first         NaN           NaN  2016-01-01 00:00:17              NaN   \n",
       "last          NaN           NaN  2016-06-30 23:59:39              NaN   \n",
       "mean          NaN  1.534950e+00                  NaN     1.664530e+00   \n",
       "std           NaN  4.987772e-01                  NaN     1.314242e+00   \n",
       "min           NaN  1.000000e+00                  NaN     0.000000e+00   \n",
       "25%           NaN  1.000000e+00                  NaN     1.000000e+00   \n",
       "50%           NaN  2.000000e+00                  NaN     1.000000e+00   \n",
       "75%           NaN  2.000000e+00                  NaN     2.000000e+00   \n",
       "max           NaN  2.000000e+00                  NaN     9.000000e+00   \n",
       "\n",
       "        pickup_longitude  pickup_latitude  dropoff_longitude  \\\n",
       "count       1.458644e+06     1.458644e+06       1.458644e+06   \n",
       "unique               NaN              NaN                NaN   \n",
       "top                  NaN              NaN                NaN   \n",
       "freq                 NaN              NaN                NaN   \n",
       "first                NaN              NaN                NaN   \n",
       "last                 NaN              NaN                NaN   \n",
       "mean       -7.397349e+01     4.075092e+01      -7.397342e+01   \n",
       "std         7.090186e-02     3.288119e-02       7.064327e-02   \n",
       "min        -1.219333e+02     3.435970e+01      -1.219333e+02   \n",
       "25%        -7.399187e+01     4.073735e+01      -7.399133e+01   \n",
       "50%        -7.398174e+01     4.075410e+01      -7.397975e+01   \n",
       "75%        -7.396733e+01     4.076836e+01      -7.396301e+01   \n",
       "max        -6.133553e+01     5.188108e+01      -6.133553e+01   \n",
       "\n",
       "        dropoff_latitude  store_and_fwd_flag  trip_duration    pickup_day  \\\n",
       "count       1.458644e+06        1.458644e+06   1.458644e+06  1.458644e+06   \n",
       "unique               NaN                 NaN            NaN           NaN   \n",
       "top                  NaN                 NaN            NaN           NaN   \n",
       "freq                 NaN                 NaN            NaN           NaN   \n",
       "first                NaN                 NaN            NaN           NaN   \n",
       "last                 NaN                 NaN            NaN           NaN   \n",
       "mean        4.075180e+01        5.515396e-03   9.594923e+02  1.550402e+01   \n",
       "std         3.589056e-02        7.406066e-02   5.237432e+03  8.703135e+00   \n",
       "min         3.218114e+01        0.000000e+00   1.000000e+00  1.000000e+00   \n",
       "25%         4.073588e+01        0.000000e+00   3.970000e+02  8.000000e+00   \n",
       "50%         4.075452e+01        0.000000e+00   6.620000e+02  1.500000e+01   \n",
       "75%         4.076981e+01        0.000000e+00   1.075000e+03  2.300000e+01   \n",
       "max         4.392103e+01        1.000000e+00   3.526282e+06  3.100000e+01   \n",
       "\n",
       "        pickup_weekday   pickup_hour  pickup_month  pickup_isweekend  \\\n",
       "count     1.458644e+06  1.458644e+06  1.458644e+06      1.458644e+06   \n",
       "unique             NaN           NaN           NaN               NaN   \n",
       "top                NaN           NaN           NaN               NaN   \n",
       "freq               NaN           NaN           NaN               NaN   \n",
       "first              NaN           NaN           NaN               NaN   \n",
       "last               NaN           NaN           NaN               NaN   \n",
       "mean      3.050375e+00  1.360648e+01  3.516818e+00      2.853568e-01   \n",
       "std       1.954039e+00  6.399693e+00  1.681038e+00      4.515844e-01   \n",
       "min       0.000000e+00  0.000000e+00  1.000000e+00      0.000000e+00   \n",
       "25%       1.000000e+00  9.000000e+00  2.000000e+00      0.000000e+00   \n",
       "50%       3.000000e+00  1.400000e+01  4.000000e+00      0.000000e+00   \n",
       "75%       5.000000e+00  1.900000e+01  5.000000e+00      1.000000e+00   \n",
       "max       6.000000e+00  2.300000e+01  6.000000e+00      1.000000e+00   \n",
       "\n",
       "       pickup_moment  \n",
       "count        1458644  \n",
       "unique             4  \n",
       "top        afternoon  \n",
       "freq          448972  \n",
       "first            NaN  \n",
       "last             NaN  \n",
       "mean             NaN  \n",
       "std              NaN  \n",
       "min              NaN  \n",
       "25%              NaN  \n",
       "50%              NaN  \n",
       "75%              NaN  \n",
       "max              NaN  "
      ]
     },
     "execution_count": 38,
     "metadata": {},
     "output_type": "execute_result"
    }
   ],
   "source": [
    "train.describe(include='all')"
   ]
  },
  {
   "cell_type": "code",
   "execution_count": 41,
   "metadata": {
    "collapsed": false
   },
   "outputs": [
    {
     "name": "stdout",
     "output_type": "stream",
     "text": [
      "2016-06-30\n",
      "2016-06-30\n",
      "2016-01-01\n",
      "2016-01-01\n",
      "182\n",
      "182\n"
     ]
    }
   ],
   "source": [
    "print train.pickup_date.max()\n",
    "print test.pickup_date.max()\n",
    "print train.pickup_date.min()\n",
    "print train.pickup_date.min()\n",
    "print len(train.pickup_date.unique())\n",
    "print len(test.pickup_date.unique())"
   ]
  },
  {
   "cell_type": "code",
   "execution_count": 42,
   "metadata": {
    "collapsed": false
   },
   "outputs": [
    {
     "name": "stdout",
     "output_type": "stream",
     "text": [
      "Successfully imported scraped data\n",
      "Weather data obtained\n"
     ]
    }
   ],
   "source": [
    "try:\n",
    "    # Import the previously scraped data\n",
    "    weather_data = pd.read_csv('./data/weather_data')\n",
    "    print ('Successfully imported scraped data')\n",
    "except:\n",
    "    # Scrape the data\n",
    "    print 'Scraping the data from the web'\n",
    "    raw_weather_data = pd.DataFrame()\n",
    "\n",
    "    for month in range(1,7):\n",
    "        if month == 1 or month == 3 or month == 5:\n",
    "            day_range = range(1, 32)\n",
    "        elif month == 4 or month == 6:\n",
    "            day_range = range(1, 31)\n",
    "        elif month == 2:\n",
    "            day_range = range(1, 30)\n",
    "\n",
    "        for day in day_range:  # make requests for every day of June, and append result to existing Dataframe\n",
    "            print 'Collecting weather for Day {} ...'.format(day)\n",
    "\n",
    "            ### Add in the response variable the webpage for month month and day day\n",
    "            response = urllib2.urlopen('http://www.wunderground.com/history/airport/KNYC'\n",
    "                                       '/2016/{}/{}/DailyHistory.html?req_city=New%20York&'\n",
    "                                       'req_state=NY&req_statename=New%20York&reqdb.zip='\n",
    "                                       '10001&reqdb.magic=5&reqdb.wmo=99999&format=1'.format(month, day))\n",
    "\n",
    "            # In case this does not work\n",
    "            #response = urllib2.urlopen('file:///home/data/weather_webpages/weather_{}_{}.html'.format(month, day))\n",
    "\n",
    "\n",
    "            html = response.read()\n",
    "\n",
    "            csv_file = re.sub('<br />','',html)\n",
    "\n",
    "            weather_data_day = pd.read_csv(StringIO(csv_file))[['TemperatureC','Precipitationmm','Conditions','DateUTC']]\n",
    "            raw_weather_data = raw_weather_data.append(weather_data_day)    \n",
    "    raw_weather_data.to_csv(path_or_buf='./data/weather_data', index=False)\n",
    "    weather_data = raw_weather_data\n",
    "finally:\n",
    "    print 'Weather data obtained'\n"
   ]
  },
  {
   "cell_type": "code",
   "execution_count": 43,
   "metadata": {
    "collapsed": true
   },
   "outputs": [],
   "source": [
    "weather_data.DateUTC = pd.to_datetime(weather_data.DateUTC, format=\"%Y-%m-%d %H:%M\")  # transform to datetime format"
   ]
  },
  {
   "cell_type": "code",
   "execution_count": 44,
   "metadata": {
    "collapsed": true
   },
   "outputs": [],
   "source": [
    "def round_hour(dt):\n",
    "    if dt.minute < 30:\n",
    "        return datetime.datetime(dt.year, dt.month, dt.day, dt.hour)\n",
    "    else:\n",
    "        return datetime.datetime(dt.year, dt.month, dt.day, dt.hour) + datetime.timedelta(hours=1)"
   ]
  },
  {
   "cell_type": "code",
   "execution_count": 45,
   "metadata": {
    "collapsed": false
   },
   "outputs": [],
   "source": [
    "weather_data.DateUTC = weather_data.DateUTC.apply(round_hour)"
   ]
  },
  {
   "cell_type": "code",
   "execution_count": 46,
   "metadata": {
    "collapsed": false
   },
   "outputs": [
    {
     "name": "stderr",
     "output_type": "stream",
     "text": [
      "/home/victor/anaconda2/lib/python2.7/site-packages/numpy/lib/nanfunctions.py:703: RuntimeWarning: Mean of empty slice\n",
      "  warnings.warn(\"Mean of empty slice\", RuntimeWarning)\n"
     ]
    }
   ],
   "source": [
    "weather_data = weather_data.groupby('DateUTC', as_index=False).agg({\n",
    "                                    'Precipitationmm': np.nanmean,\n",
    "                                    'TemperatureC': np.nanmean,\n",
    "                                    'Conditions': lambda x: x.value_counts().index[0]\n",
    "                                    })"
   ]
  },
  {
   "cell_type": "code",
   "execution_count": 47,
   "metadata": {
    "collapsed": false
   },
   "outputs": [
    {
     "name": "stdout",
     "output_type": "stream",
     "text": [
      "Missing precipitations values: 90.032303%\n"
     ]
    }
   ],
   "source": [
    "print 'Missing precipitations values: {:%}'.format(sum(weather_data.Precipitationmm.isnull())/float(len(weather_data)))"
   ]
  },
  {
   "cell_type": "code",
   "execution_count": 48,
   "metadata": {
    "collapsed": false
   },
   "outputs": [
    {
     "data": {
      "text/html": [
       "<div>\n",
       "<table border=\"1\" class=\"dataframe\">\n",
       "  <thead>\n",
       "    <tr style=\"text-align: right;\">\n",
       "      <th></th>\n",
       "      <th>DateUTC</th>\n",
       "      <th>Precipitationmm</th>\n",
       "      <th>Conditions</th>\n",
       "      <th>TemperatureC</th>\n",
       "    </tr>\n",
       "  </thead>\n",
       "  <tbody>\n",
       "    <tr>\n",
       "      <th>1034</th>\n",
       "      <td>2016-02-13 13:00:00</td>\n",
       "      <td>NaN</td>\n",
       "      <td>Clear</td>\n",
       "      <td>-6.1</td>\n",
       "    </tr>\n",
       "    <tr>\n",
       "      <th>1733</th>\n",
       "      <td>2016-03-13 16:00:00</td>\n",
       "      <td>NaN</td>\n",
       "      <td>Clear</td>\n",
       "      <td>15.6</td>\n",
       "    </tr>\n",
       "    <tr>\n",
       "      <th>2796</th>\n",
       "      <td>2016-04-27 16:00:00</td>\n",
       "      <td>NaN</td>\n",
       "      <td>Overcast</td>\n",
       "      <td>11.7</td>\n",
       "    </tr>\n",
       "    <tr>\n",
       "      <th>1481</th>\n",
       "      <td>2016-03-03 04:00:00</td>\n",
       "      <td>NaN</td>\n",
       "      <td>Clear</td>\n",
       "      <td>-1.1</td>\n",
       "    </tr>\n",
       "    <tr>\n",
       "      <th>4172</th>\n",
       "      <td>2016-06-24 11:00:00</td>\n",
       "      <td>NaN</td>\n",
       "      <td>Clear</td>\n",
       "      <td>21.1</td>\n",
       "    </tr>\n",
       "  </tbody>\n",
       "</table>\n",
       "</div>"
      ],
      "text/plain": [
       "                 DateUTC  Precipitationmm Conditions  TemperatureC\n",
       "1034 2016-02-13 13:00:00              NaN      Clear          -6.1\n",
       "1733 2016-03-13 16:00:00              NaN      Clear          15.6\n",
       "2796 2016-04-27 16:00:00              NaN   Overcast          11.7\n",
       "1481 2016-03-03 04:00:00              NaN      Clear          -1.1\n",
       "4172 2016-06-24 11:00:00              NaN      Clear          21.1"
      ]
     },
     "execution_count": 48,
     "metadata": {},
     "output_type": "execute_result"
    }
   ],
   "source": [
    "weather_data.sample(5)"
   ]
  },
  {
   "cell_type": "code",
   "execution_count": 49,
   "metadata": {
    "collapsed": true
   },
   "outputs": [],
   "source": [
    "weather_data[['TemperatureC','Precipitationmm']] = (\n",
    "    weather_data[['TemperatureC','Precipitationmm']].apply(lambda x: np.round(x,2)))"
   ]
  },
  {
   "cell_type": "code",
   "execution_count": 50,
   "metadata": {
    "collapsed": true
   },
   "outputs": [],
   "source": [
    "weather_data.Precipitationmm.fillna(method=\"pad\", inplace=True)\n",
    "weather_data.Precipitationmm.fillna(method=\"bfill\", inplace=True)"
   ]
  },
  {
   "cell_type": "code",
   "execution_count": 51,
   "metadata": {
    "collapsed": false
   },
   "outputs": [
    {
     "data": {
      "text/html": [
       "<div>\n",
       "<table border=\"1\" class=\"dataframe\">\n",
       "  <thead>\n",
       "    <tr style=\"text-align: right;\">\n",
       "      <th></th>\n",
       "      <th>DateUTC</th>\n",
       "      <th>Precipitationmm</th>\n",
       "      <th>Conditions</th>\n",
       "      <th>TemperatureC</th>\n",
       "    </tr>\n",
       "  </thead>\n",
       "  <tbody>\n",
       "    <tr>\n",
       "      <th>210</th>\n",
       "      <td>2016-01-10 05:00:00</td>\n",
       "      <td>0.00</td>\n",
       "      <td>Overcast</td>\n",
       "      <td>7.80</td>\n",
       "    </tr>\n",
       "    <tr>\n",
       "      <th>211</th>\n",
       "      <td>2016-01-10 06:00:00</td>\n",
       "      <td>0.00</td>\n",
       "      <td>Overcast</td>\n",
       "      <td>7.80</td>\n",
       "    </tr>\n",
       "    <tr>\n",
       "      <th>212</th>\n",
       "      <td>2016-01-10 07:00:00</td>\n",
       "      <td>0.00</td>\n",
       "      <td>Overcast</td>\n",
       "      <td>7.80</td>\n",
       "    </tr>\n",
       "    <tr>\n",
       "      <th>213</th>\n",
       "      <td>2016-01-10 08:00:00</td>\n",
       "      <td>0.00</td>\n",
       "      <td>Light Rain</td>\n",
       "      <td>7.80</td>\n",
       "    </tr>\n",
       "    <tr>\n",
       "      <th>214</th>\n",
       "      <td>2016-01-10 09:00:00</td>\n",
       "      <td>0.05</td>\n",
       "      <td>Rain</td>\n",
       "      <td>7.13</td>\n",
       "    </tr>\n",
       "    <tr>\n",
       "      <th>215</th>\n",
       "      <td>2016-01-10 10:00:00</td>\n",
       "      <td>0.14</td>\n",
       "      <td>Heavy Rain</td>\n",
       "      <td>7.20</td>\n",
       "    </tr>\n",
       "    <tr>\n",
       "      <th>216</th>\n",
       "      <td>2016-01-10 11:00:00</td>\n",
       "      <td>0.21</td>\n",
       "      <td>Rain</td>\n",
       "      <td>7.16</td>\n",
       "    </tr>\n",
       "    <tr>\n",
       "      <th>217</th>\n",
       "      <td>2016-01-10 12:00:00</td>\n",
       "      <td>0.20</td>\n",
       "      <td>Heavy Rain</td>\n",
       "      <td>7.40</td>\n",
       "    </tr>\n",
       "    <tr>\n",
       "      <th>218</th>\n",
       "      <td>2016-01-10 13:00:00</td>\n",
       "      <td>0.36</td>\n",
       "      <td>Heavy Rain</td>\n",
       "      <td>9.23</td>\n",
       "    </tr>\n",
       "    <tr>\n",
       "      <th>219</th>\n",
       "      <td>2016-01-10 14:00:00</td>\n",
       "      <td>0.46</td>\n",
       "      <td>Light Rain</td>\n",
       "      <td>10.00</td>\n",
       "    </tr>\n",
       "  </tbody>\n",
       "</table>\n",
       "</div>"
      ],
      "text/plain": [
       "                DateUTC  Precipitationmm  Conditions  TemperatureC\n",
       "210 2016-01-10 05:00:00             0.00    Overcast          7.80\n",
       "211 2016-01-10 06:00:00             0.00    Overcast          7.80\n",
       "212 2016-01-10 07:00:00             0.00    Overcast          7.80\n",
       "213 2016-01-10 08:00:00             0.00  Light Rain          7.80\n",
       "214 2016-01-10 09:00:00             0.05        Rain          7.13\n",
       "215 2016-01-10 10:00:00             0.14  Heavy Rain          7.20\n",
       "216 2016-01-10 11:00:00             0.21        Rain          7.16\n",
       "217 2016-01-10 12:00:00             0.20  Heavy Rain          7.40\n",
       "218 2016-01-10 13:00:00             0.36  Heavy Rain          9.23\n",
       "219 2016-01-10 14:00:00             0.46  Light Rain         10.00"
      ]
     },
     "execution_count": 51,
     "metadata": {},
     "output_type": "execute_result"
    }
   ],
   "source": [
    "weather_data.iloc[210:220,:]"
   ]
  },
  {
   "cell_type": "code",
   "execution_count": 52,
   "metadata": {
    "collapsed": true
   },
   "outputs": [],
   "source": [
    "weather_data.rename(columns = {'DateUTC' : 'join_time'}, inplace=True)  # This renames the weather data Date column"
   ]
  },
  {
   "cell_type": "code",
   "execution_count": 53,
   "metadata": {
    "collapsed": false
   },
   "outputs": [],
   "source": [
    "train['join_time'] = train.pickup_datetime.apply(round_hour)  # This rounds the time slots for the start time in initial dataset\n",
    "train = train.merge(weather_data, how='left')\n",
    "\n",
    "test['join_time'] = test.pickup_datetime.apply(round_hour)  # This rounds the time slots for the start time in initial dataset\n",
    "test = test.merge(weather_data, how='left')"
   ]
  },
  {
   "cell_type": "code",
   "execution_count": 54,
   "metadata": {
    "collapsed": true
   },
   "outputs": [],
   "source": [
    "del train['join_time']\n",
    "del test['join_time']"
   ]
  },
  {
   "cell_type": "code",
   "execution_count": 55,
   "metadata": {
    "collapsed": false
   },
   "outputs": [
    {
     "data": {
      "image/png": "[encoded data removed]",
      "text/plain": [
       "<matplotlib.figure.Figure at 0x7f8412f0f350>"
      ]
     },
     "metadata": {},
     "output_type": "display_data"
    }
   ],
   "source": [
    "plt.figure(figsize=(20,8))\n",
    "sns.barplot(x='Conditions', y='trip_duration', data=train, estimator=mean)\n",
    "plt.title('Mean Trip time vs. weather conditions', fontsize=17)\n",
    "plt.show()"
   ]
  },
  {
   "cell_type": "code",
   "execution_count": 56,
   "metadata": {
    "collapsed": false
   },
   "outputs": [
    {
     "data": {
      "text/plain": [
       "Index([u'id', u'vendor_id', u'pickup_datetime', u'passenger_count',\n",
       "       u'pickup_longitude', u'pickup_latitude', u'dropoff_longitude',\n",
       "       u'dropoff_latitude', u'store_and_fwd_flag', u'trip_duration',\n",
       "       u'pickup_day', u'pickup_weekday', u'pickup_hour', u'pickup_month',\n",
       "       u'pickup_isweekend', u'pickup_moment', u'pickup_date',\n",
       "       u'Precipitationmm', u'Conditions', u'TemperatureC'],\n",
       "      dtype='object')"
      ]
     },
     "execution_count": 56,
     "metadata": {},
     "output_type": "execute_result"
    }
   ],
   "source": [
    "train.columns"
   ]
  },
  {
   "cell_type": "code",
   "execution_count": 62,
   "metadata": {
    "collapsed": true
   },
   "outputs": [],
   "source": [
    "def distance_stations(x):\n",
    "    start_lat = x['pickup_latitude']\n",
    "    start_long = x['pickup_longitude']\n",
    "    end_lat = x['dropoff_latitude']\n",
    "    end_long = x['dropoff_longitude']\n",
    "    return haversine((start_lat, start_long), (end_lat, end_long))"
   ]
  },
  {
   "cell_type": "code",
   "execution_count": 63,
   "metadata": {
    "collapsed": false
   },
   "outputs": [],
   "source": [
    "train['traveled_distance'] = train.apply(distance_stations, axis=1)"
   ]
  },
  {
   "cell_type": "code",
   "execution_count": 64,
   "metadata": {
    "collapsed": true
   },
   "outputs": [],
   "source": [
    "test['traveled_distance'] = test.apply(distance_stations, axis=1)"
   ]
  },
  {
   "cell_type": "code",
   "execution_count": 65,
   "metadata": {
    "collapsed": true
   },
   "outputs": [],
   "source": [
    "train.to_csv('./data/tmp_train_data.csv')\n",
    "test.to_csv('./data/tmp_test_data.csv')"
   ]
  },
  {
   "cell_type": "code",
   "execution_count": 66,
   "metadata": {
    "collapsed": false
   },
   "outputs": [
    {
     "name": "stdout",
     "output_type": "stream",
     "text": [
      "Dummifying the Conditions variable ...\n",
      "Dummifying the pickup_moment variable ...\n",
      "Deleting the Conditions variable ...\n",
      "Deleting the pickup_moment variable ...\n",
      "Deleting the pickup_datetime variable ...\n",
      "Deleting the pickup_date variable ...\n",
      "Deleting the id variable ...\n"
     ]
    }
   ],
   "source": [
    "for variable_name in ['Conditions', 'pickup_moment']:\n",
    "    print 'Dummifying the {} variable ...'.format(variable_name)\n",
    "    dummies = pd.get_dummies(train[variable_name])\n",
    "    dummies.columns = ['{}_{}'.format(variable_name,x) for x in dummies.columns]\n",
    "    train = pd.concat([train,dummies],axis=1)\n",
    "    \n",
    "for variable_name in ['Conditions', 'pickup_moment','pickup_datetime', 'pickup_date', 'id']:\n",
    "    print 'Deleting the {} variable ...'.format(variable_name)\n",
    "    del train[variable_name]"
   ]
  },
  {
   "cell_type": "code",
   "execution_count": 67,
   "metadata": {
    "collapsed": false
   },
   "outputs": [
    {
     "name": "stdout",
     "output_type": "stream",
     "text": [
      "Dummifying the Conditions variable ...\n",
      "Dummifying the pickup_moment variable ...\n",
      "Deleting the Conditions variable ...\n",
      "Deleting the pickup_moment variable ...\n",
      "Deleting the pickup_datetime variable ...\n",
      "Deleting the pickup_date variable ...\n",
      "Deleting the id variable ...\n"
     ]
    }
   ],
   "source": [
    "for variable_name in ['Conditions', 'pickup_moment']:\n",
    "    print 'Dummifying the {} variable ...'.format(variable_name)\n",
    "    dummies = pd.get_dummies(test[variable_name])\n",
    "    dummies.columns = ['{}_{}'.format(variable_name,x) for x in dummies.columns]\n",
    "    test = pd.concat([test,dummies],axis=1)\n",
    "    \n",
    "for variable_name in ['Conditions', 'pickup_moment','pickup_datetime', 'pickup_date', 'id']:\n",
    "    print 'Deleting the {} variable ...'.format(variable_name)\n",
    "    del test[variable_name]"
   ]
  },
  {
   "cell_type": "code",
   "execution_count": null,
   "metadata": {
    "collapsed": true
   },
   "outputs": [],
   "source": []
  },
  {
   "cell_type": "code",
   "execution_count": null,
   "metadata": {
    "collapsed": true
   },
   "outputs": [],
   "source": []
  },
  {
   "cell_type": "code",
   "execution_count": 68,
   "metadata": {
    "collapsed": false
   },
   "outputs": [],
   "source": [
    "# Split the traning and testing data\n",
    "train_data = train.copy()\n",
    "features = train_data.loc[:, train.columns != 'trip_duration']\n",
    "target = train_data.loc[:, 'trip_duration']\n",
    "X_train, X_test, y_train, y_test = train_test_split(\n",
    "    features, target, test_size=0.3, random_state=42)"
   ]
  },
  {
   "cell_type": "code",
   "execution_count": 69,
   "metadata": {
    "collapsed": true
   },
   "outputs": [],
   "source": [
    "# The learning curve which is used to spot variance and bias problems\n",
    "def plot_learning_curve(estimator, title, X, y, ylim=None, cv=None,\n",
    "                        n_jobs=1, train_sizes=np.linspace(.1, 1.0, 5)):\n",
    "    plt.figure()\n",
    "    plt.title(title)\n",
    "    if ylim is not None:\n",
    "        plt.ylim(*ylim)\n",
    "    plt.xlabel(\"N (Training Set Sizes)\")\n",
    "    plt.ylabel(\"Mean Square Error\")\n",
    "    train_sizes, train_scores, test_scores = learning_curve(\n",
    "        estimator, X, y, cv=cv, n_jobs=n_jobs,\n",
    "        scoring=make_scorer(mean_squared_error), train_sizes=train_sizes)\n",
    "    train_scores_mean = np.mean(train_scores, axis=1)\n",
    "    train_scores_std = np.std(train_scores, axis=1)\n",
    "    test_scores_mean = np.mean(test_scores, axis=1)\n",
    "    test_scores_std = np.std(test_scores, axis=1)\n",
    "    plt.grid()\n",
    "\n",
    "    plt.fill_between(train_sizes, train_scores_mean - train_scores_std,\n",
    "                     train_scores_mean + train_scores_std, alpha=0.1,\n",
    "                     color=\"r\")\n",
    "    plt.fill_between(train_sizes, test_scores_mean - test_scores_std,\n",
    "                     test_scores_mean + test_scores_std, alpha=0.1, color=\"g\")\n",
    "    plt.plot(train_sizes, train_scores_mean, 'o-', color=\"r\",\n",
    "             label=\"Training error\")\n",
    "    plt.plot(train_sizes, test_scores_mean, 'o-', color=\"g\",\n",
    "             label=\"Cross-validation error\")\n",
    "\n",
    "    plt.legend(loc=\"best\")\n",
    "    plt.grid()\n",
    "    return plt"
   ]
  },
  {
   "cell_type": "code",
   "execution_count": 70,
   "metadata": {
    "collapsed": false
   },
   "outputs": [
    {
     "ename": "ValueError",
     "evalue": "Input contains NaN, infinity or a value too large for dtype('float64').",
     "output_type": "error",
     "traceback": [
      "\u001b[0;31m---------------------------------------------------------------------------\u001b[0m",
      "\u001b[0;31mValueError\u001b[0m                                Traceback (most recent call last)",
      "\u001b[0;32m<ipython-input-70-19bf1addb94f>\u001b[0m in \u001b[0;36m<module>\u001b[0;34m()\u001b[0m\n\u001b[1;32m      1\u001b[0m \u001b[0mlinear_regression\u001b[0m \u001b[0;34m=\u001b[0m \u001b[0mlinear_model\u001b[0m\u001b[0;34m.\u001b[0m\u001b[0mLinearRegression\u001b[0m\u001b[0;34m(\u001b[0m\u001b[0;34m)\u001b[0m\u001b[0;34m\u001b[0m\u001b[0m\n\u001b[0;32m----> 2\u001b[0;31m \u001b[0mlinear_regression\u001b[0m\u001b[0;34m.\u001b[0m\u001b[0mfit\u001b[0m\u001b[0;34m(\u001b[0m\u001b[0mX_train\u001b[0m\u001b[0;34m,\u001b[0m \u001b[0my_train\u001b[0m\u001b[0;34m)\u001b[0m\u001b[0;34m\u001b[0m\u001b[0m\n\u001b[0m",
      "\u001b[0;32m/home/victor/anaconda2/lib/python2.7/site-packages/sklearn/linear_model/base.pyc\u001b[0m in \u001b[0;36mfit\u001b[0;34m(self, X, y, sample_weight)\u001b[0m\n\u001b[1;32m    510\u001b[0m         \u001b[0mn_jobs_\u001b[0m \u001b[0;34m=\u001b[0m \u001b[0mself\u001b[0m\u001b[0;34m.\u001b[0m\u001b[0mn_jobs\u001b[0m\u001b[0;34m\u001b[0m\u001b[0m\n\u001b[1;32m    511\u001b[0m         X, y = check_X_y(X, y, accept_sparse=['csr', 'csc', 'coo'],\n\u001b[0;32m--> 512\u001b[0;31m                          y_numeric=True, multi_output=True)\n\u001b[0m\u001b[1;32m    513\u001b[0m \u001b[0;34m\u001b[0m\u001b[0m\n\u001b[1;32m    514\u001b[0m         \u001b[0;32mif\u001b[0m \u001b[0msample_weight\u001b[0m \u001b[0;32mis\u001b[0m \u001b[0;32mnot\u001b[0m \u001b[0mNone\u001b[0m \u001b[0;32mand\u001b[0m \u001b[0mnp\u001b[0m\u001b[0;34m.\u001b[0m\u001b[0matleast_1d\u001b[0m\u001b[0;34m(\u001b[0m\u001b[0msample_weight\u001b[0m\u001b[0;34m)\u001b[0m\u001b[0;34m.\u001b[0m\u001b[0mndim\u001b[0m \u001b[0;34m>\u001b[0m \u001b[0;36m1\u001b[0m\u001b[0;34m:\u001b[0m\u001b[0;34m\u001b[0m\u001b[0m\n",
      "\u001b[0;32m/home/victor/anaconda2/lib/python2.7/site-packages/sklearn/utils/validation.pyc\u001b[0m in \u001b[0;36mcheck_X_y\u001b[0;34m(X, y, accept_sparse, dtype, order, copy, force_all_finite, ensure_2d, allow_nd, multi_output, ensure_min_samples, ensure_min_features, y_numeric, warn_on_dtype, estimator)\u001b[0m\n\u001b[1;32m    519\u001b[0m     X = check_array(X, accept_sparse, dtype, order, copy, force_all_finite,\n\u001b[1;32m    520\u001b[0m                     \u001b[0mensure_2d\u001b[0m\u001b[0;34m,\u001b[0m \u001b[0mallow_nd\u001b[0m\u001b[0;34m,\u001b[0m \u001b[0mensure_min_samples\u001b[0m\u001b[0;34m,\u001b[0m\u001b[0;34m\u001b[0m\u001b[0m\n\u001b[0;32m--> 521\u001b[0;31m                     ensure_min_features, warn_on_dtype, estimator)\n\u001b[0m\u001b[1;32m    522\u001b[0m     \u001b[0;32mif\u001b[0m \u001b[0mmulti_output\u001b[0m\u001b[0;34m:\u001b[0m\u001b[0;34m\u001b[0m\u001b[0m\n\u001b[1;32m    523\u001b[0m         y = check_array(y, 'csr', force_all_finite=True, ensure_2d=False,\n",
      "\u001b[0;32m/home/victor/anaconda2/lib/python2.7/site-packages/sklearn/utils/validation.pyc\u001b[0m in \u001b[0;36mcheck_array\u001b[0;34m(array, accept_sparse, dtype, order, copy, force_all_finite, ensure_2d, allow_nd, ensure_min_samples, ensure_min_features, warn_on_dtype, estimator)\u001b[0m\n\u001b[1;32m    405\u001b[0m                              % (array.ndim, estimator_name))\n\u001b[1;32m    406\u001b[0m         \u001b[0;32mif\u001b[0m \u001b[0mforce_all_finite\u001b[0m\u001b[0;34m:\u001b[0m\u001b[0;34m\u001b[0m\u001b[0m\n\u001b[0;32m--> 407\u001b[0;31m             \u001b[0m_assert_all_finite\u001b[0m\u001b[0;34m(\u001b[0m\u001b[0marray\u001b[0m\u001b[0;34m)\u001b[0m\u001b[0;34m\u001b[0m\u001b[0m\n\u001b[0m\u001b[1;32m    408\u001b[0m \u001b[0;34m\u001b[0m\u001b[0m\n\u001b[1;32m    409\u001b[0m     \u001b[0mshape_repr\u001b[0m \u001b[0;34m=\u001b[0m \u001b[0m_shape_repr\u001b[0m\u001b[0;34m(\u001b[0m\u001b[0marray\u001b[0m\u001b[0;34m.\u001b[0m\u001b[0mshape\u001b[0m\u001b[0;34m)\u001b[0m\u001b[0;34m\u001b[0m\u001b[0m\n",
      "\u001b[0;32m/home/victor/anaconda2/lib/python2.7/site-packages/sklearn/utils/validation.pyc\u001b[0m in \u001b[0;36m_assert_all_finite\u001b[0;34m(X)\u001b[0m\n\u001b[1;32m     56\u001b[0m             and not np.isfinite(X).all()):\n\u001b[1;32m     57\u001b[0m         raise ValueError(\"Input contains NaN, infinity\"\n\u001b[0;32m---> 58\u001b[0;31m                          \" or a value too large for %r.\" % X.dtype)\n\u001b[0m\u001b[1;32m     59\u001b[0m \u001b[0;34m\u001b[0m\u001b[0m\n\u001b[1;32m     60\u001b[0m \u001b[0;34m\u001b[0m\u001b[0m\n",
      "\u001b[0;31mValueError\u001b[0m: Input contains NaN, infinity or a value too large for dtype('float64')."
     ]
    }
   ],
   "source": [
    "linear_regression = linear_model.LinearRegression()\n",
    "linear_regression.fit(X_train, y_train)"
   ]
  },
  {
   "cell_type": "code",
   "execution_count": 71,
   "metadata": {
    "collapsed": false
   },
   "outputs": [
    {
     "data": {
      "text/html": [
       "<div>\n",
       "<table border=\"1\" class=\"dataframe\">\n",
       "  <thead>\n",
       "    <tr style=\"text-align: right;\">\n",
       "      <th></th>\n",
       "      <th>vendor_id</th>\n",
       "      <th>passenger_count</th>\n",
       "      <th>pickup_longitude</th>\n",
       "      <th>pickup_latitude</th>\n",
       "      <th>dropoff_longitude</th>\n",
       "      <th>dropoff_latitude</th>\n",
       "      <th>store_and_fwd_flag</th>\n",
       "      <th>pickup_day</th>\n",
       "      <th>pickup_weekday</th>\n",
       "      <th>pickup_hour</th>\n",
       "      <th>...</th>\n",
       "      <th>Conditions_Overcast</th>\n",
       "      <th>Conditions_Partly Cloudy</th>\n",
       "      <th>Conditions_Rain</th>\n",
       "      <th>Conditions_Scattered Clouds</th>\n",
       "      <th>Conditions_Snow</th>\n",
       "      <th>Conditions_Unknown</th>\n",
       "      <th>pickup_moment_afternoon</th>\n",
       "      <th>pickup_moment_evening</th>\n",
       "      <th>pickup_moment_morning</th>\n",
       "      <th>pickup_moment_night</th>\n",
       "    </tr>\n",
       "  </thead>\n",
       "  <tbody>\n",
       "    <tr>\n",
       "      <th>count</th>\n",
       "      <td>1.021050e+06</td>\n",
       "      <td>1.021050e+06</td>\n",
       "      <td>1.021050e+06</td>\n",
       "      <td>1.021050e+06</td>\n",
       "      <td>1.021050e+06</td>\n",
       "      <td>1.021050e+06</td>\n",
       "      <td>1.021050e+06</td>\n",
       "      <td>1.021050e+06</td>\n",
       "      <td>1.021050e+06</td>\n",
       "      <td>1.021050e+06</td>\n",
       "      <td>...</td>\n",
       "      <td>1.021050e+06</td>\n",
       "      <td>1.021050e+06</td>\n",
       "      <td>1.021050e+06</td>\n",
       "      <td>1.021050e+06</td>\n",
       "      <td>1.021050e+06</td>\n",
       "      <td>1.021050e+06</td>\n",
       "      <td>1.021050e+06</td>\n",
       "      <td>1.021050e+06</td>\n",
       "      <td>1.021050e+06</td>\n",
       "      <td>1.021050e+06</td>\n",
       "    </tr>\n",
       "    <tr>\n",
       "      <th>mean</th>\n",
       "      <td>1.535298e+00</td>\n",
       "      <td>1.663364e+00</td>\n",
       "      <td>-7.397347e+01</td>\n",
       "      <td>4.075093e+01</td>\n",
       "      <td>-7.397339e+01</td>\n",
       "      <td>4.075180e+01</td>\n",
       "      <td>5.530581e-03</td>\n",
       "      <td>1.551399e+01</td>\n",
       "      <td>3.050223e+00</td>\n",
       "      <td>1.360399e+01</td>\n",
       "      <td>...</td>\n",
       "      <td>2.317565e-01</td>\n",
       "      <td>5.373880e-02</td>\n",
       "      <td>7.013369e-03</td>\n",
       "      <td>2.960972e-02</td>\n",
       "      <td>1.464179e-03</td>\n",
       "      <td>4.524166e-02</td>\n",
       "      <td>3.076549e-01</td>\n",
       "      <td>2.327055e-01</td>\n",
       "      <td>2.943666e-01</td>\n",
       "      <td>1.652730e-01</td>\n",
       "    </tr>\n",
       "    <tr>\n",
       "      <th>std</th>\n",
       "      <td>4.987527e-01</td>\n",
       "      <td>1.312695e+00</td>\n",
       "      <td>6.453953e-02</td>\n",
       "      <td>3.347413e-02</td>\n",
       "      <td>6.416123e-02</td>\n",
       "      <td>3.581601e-02</td>\n",
       "      <td>7.416198e-02</td>\n",
       "      <td>8.704119e+00</td>\n",
       "      <td>1.954022e+00</td>\n",
       "      <td>6.402083e+00</td>\n",
       "      <td>...</td>\n",
       "      <td>4.219545e-01</td>\n",
       "      <td>2.255016e-01</td>\n",
       "      <td>8.345171e-02</td>\n",
       "      <td>1.695081e-01</td>\n",
       "      <td>3.823659e-02</td>\n",
       "      <td>2.078338e-01</td>\n",
       "      <td>4.615231e-01</td>\n",
       "      <td>4.225563e-01</td>\n",
       "      <td>4.557577e-01</td>\n",
       "      <td>3.714269e-01</td>\n",
       "    </tr>\n",
       "    <tr>\n",
       "      <th>min</th>\n",
       "      <td>1.000000e+00</td>\n",
       "      <td>0.000000e+00</td>\n",
       "      <td>-1.219332e+02</td>\n",
       "      <td>3.435970e+01</td>\n",
       "      <td>-1.219332e+02</td>\n",
       "      <td>3.218114e+01</td>\n",
       "      <td>0.000000e+00</td>\n",
       "      <td>1.000000e+00</td>\n",
       "      <td>0.000000e+00</td>\n",
       "      <td>0.000000e+00</td>\n",
       "      <td>...</td>\n",
       "      <td>0.000000e+00</td>\n",
       "      <td>0.000000e+00</td>\n",
       "      <td>0.000000e+00</td>\n",
       "      <td>0.000000e+00</td>\n",
       "      <td>0.000000e+00</td>\n",
       "      <td>0.000000e+00</td>\n",
       "      <td>0.000000e+00</td>\n",
       "      <td>0.000000e+00</td>\n",
       "      <td>0.000000e+00</td>\n",
       "      <td>0.000000e+00</td>\n",
       "    </tr>\n",
       "    <tr>\n",
       "      <th>25%</th>\n",
       "      <td>1.000000e+00</td>\n",
       "      <td>1.000000e+00</td>\n",
       "      <td>-7.399187e+01</td>\n",
       "      <td>4.073734e+01</td>\n",
       "      <td>-7.399132e+01</td>\n",
       "      <td>4.073587e+01</td>\n",
       "      <td>0.000000e+00</td>\n",
       "      <td>8.000000e+00</td>\n",
       "      <td>1.000000e+00</td>\n",
       "      <td>9.000000e+00</td>\n",
       "      <td>...</td>\n",
       "      <td>0.000000e+00</td>\n",
       "      <td>0.000000e+00</td>\n",
       "      <td>0.000000e+00</td>\n",
       "      <td>0.000000e+00</td>\n",
       "      <td>0.000000e+00</td>\n",
       "      <td>0.000000e+00</td>\n",
       "      <td>0.000000e+00</td>\n",
       "      <td>0.000000e+00</td>\n",
       "      <td>0.000000e+00</td>\n",
       "      <td>0.000000e+00</td>\n",
       "    </tr>\n",
       "    <tr>\n",
       "      <th>50%</th>\n",
       "      <td>2.000000e+00</td>\n",
       "      <td>1.000000e+00</td>\n",
       "      <td>-7.398175e+01</td>\n",
       "      <td>4.075410e+01</td>\n",
       "      <td>-7.397975e+01</td>\n",
       "      <td>4.075453e+01</td>\n",
       "      <td>0.000000e+00</td>\n",
       "      <td>1.500000e+01</td>\n",
       "      <td>3.000000e+00</td>\n",
       "      <td>1.400000e+01</td>\n",
       "      <td>...</td>\n",
       "      <td>0.000000e+00</td>\n",
       "      <td>0.000000e+00</td>\n",
       "      <td>0.000000e+00</td>\n",
       "      <td>0.000000e+00</td>\n",
       "      <td>0.000000e+00</td>\n",
       "      <td>0.000000e+00</td>\n",
       "      <td>0.000000e+00</td>\n",
       "      <td>0.000000e+00</td>\n",
       "      <td>0.000000e+00</td>\n",
       "      <td>0.000000e+00</td>\n",
       "    </tr>\n",
       "    <tr>\n",
       "      <th>75%</th>\n",
       "      <td>2.000000e+00</td>\n",
       "      <td>2.000000e+00</td>\n",
       "      <td>-7.396734e+01</td>\n",
       "      <td>4.076834e+01</td>\n",
       "      <td>-7.396303e+01</td>\n",
       "      <td>4.076981e+01</td>\n",
       "      <td>0.000000e+00</td>\n",
       "      <td>2.300000e+01</td>\n",
       "      <td>5.000000e+00</td>\n",
       "      <td>1.900000e+01</td>\n",
       "      <td>...</td>\n",
       "      <td>0.000000e+00</td>\n",
       "      <td>0.000000e+00</td>\n",
       "      <td>0.000000e+00</td>\n",
       "      <td>0.000000e+00</td>\n",
       "      <td>0.000000e+00</td>\n",
       "      <td>0.000000e+00</td>\n",
       "      <td>1.000000e+00</td>\n",
       "      <td>0.000000e+00</td>\n",
       "      <td>1.000000e+00</td>\n",
       "      <td>0.000000e+00</td>\n",
       "    </tr>\n",
       "    <tr>\n",
       "      <th>max</th>\n",
       "      <td>2.000000e+00</td>\n",
       "      <td>9.000000e+00</td>\n",
       "      <td>-6.133553e+01</td>\n",
       "      <td>5.188108e+01</td>\n",
       "      <td>-6.133553e+01</td>\n",
       "      <td>4.392103e+01</td>\n",
       "      <td>1.000000e+00</td>\n",
       "      <td>3.100000e+01</td>\n",
       "      <td>6.000000e+00</td>\n",
       "      <td>2.300000e+01</td>\n",
       "      <td>...</td>\n",
       "      <td>1.000000e+00</td>\n",
       "      <td>1.000000e+00</td>\n",
       "      <td>1.000000e+00</td>\n",
       "      <td>1.000000e+00</td>\n",
       "      <td>1.000000e+00</td>\n",
       "      <td>1.000000e+00</td>\n",
       "      <td>1.000000e+00</td>\n",
       "      <td>1.000000e+00</td>\n",
       "      <td>1.000000e+00</td>\n",
       "      <td>1.000000e+00</td>\n",
       "    </tr>\n",
       "  </tbody>\n",
       "</table>\n",
       "<p>8 rows × 33 columns</p>\n",
       "</div>"
      ],
      "text/plain": [
       "          vendor_id  passenger_count  pickup_longitude  pickup_latitude  \\\n",
       "count  1.021050e+06     1.021050e+06      1.021050e+06     1.021050e+06   \n",
       "mean   1.535298e+00     1.663364e+00     -7.397347e+01     4.075093e+01   \n",
       "std    4.987527e-01     1.312695e+00      6.453953e-02     3.347413e-02   \n",
       "min    1.000000e+00     0.000000e+00     -1.219332e+02     3.435970e+01   \n",
       "25%    1.000000e+00     1.000000e+00     -7.399187e+01     4.073734e+01   \n",
       "50%    2.000000e+00     1.000000e+00     -7.398175e+01     4.075410e+01   \n",
       "75%    2.000000e+00     2.000000e+00     -7.396734e+01     4.076834e+01   \n",
       "max    2.000000e+00     9.000000e+00     -6.133553e+01     5.188108e+01   \n",
       "\n",
       "       dropoff_longitude  dropoff_latitude  store_and_fwd_flag    pickup_day  \\\n",
       "count       1.021050e+06      1.021050e+06        1.021050e+06  1.021050e+06   \n",
       "mean       -7.397339e+01      4.075180e+01        5.530581e-03  1.551399e+01   \n",
       "std         6.416123e-02      3.581601e-02        7.416198e-02  8.704119e+00   \n",
       "min        -1.219332e+02      3.218114e+01        0.000000e+00  1.000000e+00   \n",
       "25%        -7.399132e+01      4.073587e+01        0.000000e+00  8.000000e+00   \n",
       "50%        -7.397975e+01      4.075453e+01        0.000000e+00  1.500000e+01   \n",
       "75%        -7.396303e+01      4.076981e+01        0.000000e+00  2.300000e+01   \n",
       "max        -6.133553e+01      4.392103e+01        1.000000e+00  3.100000e+01   \n",
       "\n",
       "       pickup_weekday   pickup_hour         ...           Conditions_Overcast  \\\n",
       "count    1.021050e+06  1.021050e+06         ...                  1.021050e+06   \n",
       "mean     3.050223e+00  1.360399e+01         ...                  2.317565e-01   \n",
       "std      1.954022e+00  6.402083e+00         ...                  4.219545e-01   \n",
       "min      0.000000e+00  0.000000e+00         ...                  0.000000e+00   \n",
       "25%      1.000000e+00  9.000000e+00         ...                  0.000000e+00   \n",
       "50%      3.000000e+00  1.400000e+01         ...                  0.000000e+00   \n",
       "75%      5.000000e+00  1.900000e+01         ...                  0.000000e+00   \n",
       "max      6.000000e+00  2.300000e+01         ...                  1.000000e+00   \n",
       "\n",
       "       Conditions_Partly Cloudy  Conditions_Rain  Conditions_Scattered Clouds  \\\n",
       "count              1.021050e+06     1.021050e+06                 1.021050e+06   \n",
       "mean               5.373880e-02     7.013369e-03                 2.960972e-02   \n",
       "std                2.255016e-01     8.345171e-02                 1.695081e-01   \n",
       "min                0.000000e+00     0.000000e+00                 0.000000e+00   \n",
       "25%                0.000000e+00     0.000000e+00                 0.000000e+00   \n",
       "50%                0.000000e+00     0.000000e+00                 0.000000e+00   \n",
       "75%                0.000000e+00     0.000000e+00                 0.000000e+00   \n",
       "max                1.000000e+00     1.000000e+00                 1.000000e+00   \n",
       "\n",
       "       Conditions_Snow  Conditions_Unknown  pickup_moment_afternoon  \\\n",
       "count     1.021050e+06        1.021050e+06             1.021050e+06   \n",
       "mean      1.464179e-03        4.524166e-02             3.076549e-01   \n",
       "std       3.823659e-02        2.078338e-01             4.615231e-01   \n",
       "min       0.000000e+00        0.000000e+00             0.000000e+00   \n",
       "25%       0.000000e+00        0.000000e+00             0.000000e+00   \n",
       "50%       0.000000e+00        0.000000e+00             0.000000e+00   \n",
       "75%       0.000000e+00        0.000000e+00             1.000000e+00   \n",
       "max       1.000000e+00        1.000000e+00             1.000000e+00   \n",
       "\n",
       "       pickup_moment_evening  pickup_moment_morning  pickup_moment_night  \n",
       "count           1.021050e+06           1.021050e+06         1.021050e+06  \n",
       "mean            2.327055e-01           2.943666e-01         1.652730e-01  \n",
       "std             4.225563e-01           4.557577e-01         3.714269e-01  \n",
       "min             0.000000e+00           0.000000e+00         0.000000e+00  \n",
       "25%             0.000000e+00           0.000000e+00         0.000000e+00  \n",
       "50%             0.000000e+00           0.000000e+00         0.000000e+00  \n",
       "75%             0.000000e+00           1.000000e+00         0.000000e+00  \n",
       "max             1.000000e+00           1.000000e+00         1.000000e+00  \n",
       "\n",
       "[8 rows x 33 columns]"
      ]
     },
     "execution_count": 71,
     "metadata": {},
     "output_type": "execute_result"
    }
   ],
   "source": [
    "X_train.describe()"
   ]
  },
  {
   "cell_type": "code",
   "execution_count": 23,
   "metadata": {
    "collapsed": false
   },
   "outputs": [
    {
     "ename": "JoblibValueError",
     "evalue": "JoblibValueError\n___________________________________________________________________________\nMultiprocessing exception:\n...........................................................................\n/home/victor/anaconda2/lib/python2.7/runpy.py in _run_module_as_main(mod_name='ipykernel.__main__', alter_argv=1)\n    169     pkg_name = mod_name.rpartition('.')[0]\n    170     main_globals = sys.modules[\"__main__\"].__dict__\n    171     if alter_argv:\n    172         sys.argv[0] = fname\n    173     return _run_code(code, main_globals, None,\n--> 174                      \"__main__\", fname, loader, pkg_name)\n        fname = '/home/victor/anaconda2/lib/python2.7/site-packages/ipykernel/__main__.py'\n        loader = <pkgutil.ImpLoader instance>\n        pkg_name = 'ipykernel'\n    175 \n    176 def run_module(mod_name, init_globals=None,\n    177                run_name=None, alter_sys=False):\n    178     \"\"\"Execute a module's code without importing it\n\n...........................................................................\n/home/victor/anaconda2/lib/python2.7/runpy.py in _run_code(code=<code object <module> at 0x7f84bcfd4930, file \"/...2.7/site-packages/ipykernel/__main__.py\", line 1>, run_globals={'__builtins__': <module '__builtin__' (built-in)>, '__doc__': None, '__file__': '/home/victor/anaconda2/lib/python2.7/site-packages/ipykernel/__main__.py', '__loader__': <pkgutil.ImpLoader instance>, '__name__': '__main__', '__package__': 'ipykernel', 'app': <module 'ipykernel.kernelapp' from '/home/victor...python2.7/site-packages/ipykernel/kernelapp.pyc'>}, init_globals=None, mod_name='__main__', mod_fname='/home/victor/anaconda2/lib/python2.7/site-packages/ipykernel/__main__.py', mod_loader=<pkgutil.ImpLoader instance>, pkg_name='ipykernel')\n     67         run_globals.update(init_globals)\n     68     run_globals.update(__name__ = mod_name,\n     69                        __file__ = mod_fname,\n     70                        __loader__ = mod_loader,\n     71                        __package__ = pkg_name)\n---> 72     exec code in run_globals\n        code = <code object <module> at 0x7f84bcfd4930, file \"/...2.7/site-packages/ipykernel/__main__.py\", line 1>\n        run_globals = {'__builtins__': <module '__builtin__' (built-in)>, '__doc__': None, '__file__': '/home/victor/anaconda2/lib/python2.7/site-packages/ipykernel/__main__.py', '__loader__': <pkgutil.ImpLoader instance>, '__name__': '__main__', '__package__': 'ipykernel', 'app': <module 'ipykernel.kernelapp' from '/home/victor...python2.7/site-packages/ipykernel/kernelapp.pyc'>}\n     73     return run_globals\n     74 \n     75 def _run_module_code(code, init_globals=None,\n     76                     mod_name=None, mod_fname=None,\n\n...........................................................................\n/home/victor/anaconda2/lib/python2.7/site-packages/ipykernel/__main__.py in <module>()\n      1 \n      2 \n----> 3 \n      4 if __name__ == '__main__':\n      5     from ipykernel import kernelapp as app\n      6     app.launch_new_instance()\n      7 \n      8 \n      9 \n     10 \n\n...........................................................................\n/home/victor/anaconda2/lib/python2.7/site-packages/traitlets/config/application.py in launch_instance(cls=<class 'ipykernel.kernelapp.IPKernelApp'>, argv=None, **kwargs={})\n    653 \n    654         If a global instance already exists, this reinitializes and starts it\n    655         \"\"\"\n    656         app = cls.instance(**kwargs)\n    657         app.initialize(argv)\n--> 658         app.start()\n        app.start = <bound method IPKernelApp.start of <ipykernel.kernelapp.IPKernelApp object>>\n    659 \n    660 #-----------------------------------------------------------------------------\n    661 # utility functions, for convenience\n    662 #-----------------------------------------------------------------------------\n\n...........................................................................\n/home/victor/anaconda2/lib/python2.7/site-packages/ipykernel/kernelapp.py in start(self=<ipykernel.kernelapp.IPKernelApp object>)\n    469             return self.subapp.start()\n    470         if self.poller is not None:\n    471             self.poller.start()\n    472         self.kernel.start()\n    473         try:\n--> 474             ioloop.IOLoop.instance().start()\n    475         except KeyboardInterrupt:\n    476             pass\n    477 \n    478 launch_new_instance = IPKernelApp.launch_instance\n\n...........................................................................\n/home/victor/anaconda2/lib/python2.7/site-packages/zmq/eventloop/ioloop.py in start(self=<zmq.eventloop.ioloop.ZMQIOLoop object>)\n    172             )\n    173         return loop\n    174     \n    175     def start(self):\n    176         try:\n--> 177             super(ZMQIOLoop, self).start()\n        self.start = <bound method ZMQIOLoop.start of <zmq.eventloop.ioloop.ZMQIOLoop object>>\n    178         except ZMQError as e:\n    179             if e.errno == ETERM:\n    180                 # quietly return on ETERM\n    181                 pass\n\n...........................................................................\n/home/victor/anaconda2/lib/python2.7/site-packages/tornado/ioloop.py in start(self=<zmq.eventloop.ioloop.ZMQIOLoop object>)\n    882                 self._events.update(event_pairs)\n    883                 while self._events:\n    884                     fd, events = self._events.popitem()\n    885                     try:\n    886                         fd_obj, handler_func = self._handlers[fd]\n--> 887                         handler_func(fd_obj, events)\n        handler_func = <function null_wrapper>\n        fd_obj = <zmq.sugar.socket.Socket object>\n        events = 1\n    888                     except (OSError, IOError) as e:\n    889                         if errno_from_exception(e) == errno.EPIPE:\n    890                             # Happens when the client closes the connection\n    891                             pass\n\n...........................................................................\n/home/victor/anaconda2/lib/python2.7/site-packages/tornado/stack_context.py in null_wrapper(*args=(<zmq.sugar.socket.Socket object>, 1), **kwargs={})\n    270         # Fast path when there are no active contexts.\n    271         def null_wrapper(*args, **kwargs):\n    272             try:\n    273                 current_state = _state.contexts\n    274                 _state.contexts = cap_contexts[0]\n--> 275                 return fn(*args, **kwargs)\n        args = (<zmq.sugar.socket.Socket object>, 1)\n        kwargs = {}\n    276             finally:\n    277                 _state.contexts = current_state\n    278         null_wrapper._wrapped = True\n    279         return null_wrapper\n\n...........................................................................\n/home/victor/anaconda2/lib/python2.7/site-packages/zmq/eventloop/zmqstream.py in _handle_events(self=<zmq.eventloop.zmqstream.ZMQStream object>, fd=<zmq.sugar.socket.Socket object>, events=1)\n    435             # dispatch events:\n    436             if events & IOLoop.ERROR:\n    437                 gen_log.error(\"got POLLERR event on ZMQStream, which doesn't make sense\")\n    438                 return\n    439             if events & IOLoop.READ:\n--> 440                 self._handle_recv()\n        self._handle_recv = <bound method ZMQStream._handle_recv of <zmq.eventloop.zmqstream.ZMQStream object>>\n    441                 if not self.socket:\n    442                     return\n    443             if events & IOLoop.WRITE:\n    444                 self._handle_send()\n\n...........................................................................\n/home/victor/anaconda2/lib/python2.7/site-packages/zmq/eventloop/zmqstream.py in _handle_recv(self=<zmq.eventloop.zmqstream.ZMQStream object>)\n    467                 gen_log.error(\"RECV Error: %s\"%zmq.strerror(e.errno))\n    468         else:\n    469             if self._recv_callback:\n    470                 callback = self._recv_callback\n    471                 # self._recv_callback = None\n--> 472                 self._run_callback(callback, msg)\n        self._run_callback = <bound method ZMQStream._run_callback of <zmq.eventloop.zmqstream.ZMQStream object>>\n        callback = <function null_wrapper>\n        msg = [<zmq.sugar.frame.Frame object>, <zmq.sugar.frame.Frame object>, <zmq.sugar.frame.Frame object>, <zmq.sugar.frame.Frame object>, <zmq.sugar.frame.Frame object>, <zmq.sugar.frame.Frame object>, <zmq.sugar.frame.Frame object>]\n    473                 \n    474         # self.update_state()\n    475         \n    476 \n\n...........................................................................\n/home/victor/anaconda2/lib/python2.7/site-packages/zmq/eventloop/zmqstream.py in _run_callback(self=<zmq.eventloop.zmqstream.ZMQStream object>, callback=<function null_wrapper>, *args=([<zmq.sugar.frame.Frame object>, <zmq.sugar.frame.Frame object>, <zmq.sugar.frame.Frame object>, <zmq.sugar.frame.Frame object>, <zmq.sugar.frame.Frame object>, <zmq.sugar.frame.Frame object>, <zmq.sugar.frame.Frame object>],), **kwargs={})\n    409         close our socket.\"\"\"\n    410         try:\n    411             # Use a NullContext to ensure that all StackContexts are run\n    412             # inside our blanket exception handler rather than outside.\n    413             with stack_context.NullContext():\n--> 414                 callback(*args, **kwargs)\n        callback = <function null_wrapper>\n        args = ([<zmq.sugar.frame.Frame object>, <zmq.sugar.frame.Frame object>, <zmq.sugar.frame.Frame object>, <zmq.sugar.frame.Frame object>, <zmq.sugar.frame.Frame object>, <zmq.sugar.frame.Frame object>, <zmq.sugar.frame.Frame object>],)\n        kwargs = {}\n    415         except:\n    416             gen_log.error(\"Uncaught exception, closing connection.\",\n    417                           exc_info=True)\n    418             # Close the socket on an uncaught exception from a user callback\n\n...........................................................................\n/home/victor/anaconda2/lib/python2.7/site-packages/tornado/stack_context.py in null_wrapper(*args=([<zmq.sugar.frame.Frame object>, <zmq.sugar.frame.Frame object>, <zmq.sugar.frame.Frame object>, <zmq.sugar.frame.Frame object>, <zmq.sugar.frame.Frame object>, <zmq.sugar.frame.Frame object>, <zmq.sugar.frame.Frame object>],), **kwargs={})\n    270         # Fast path when there are no active contexts.\n    271         def null_wrapper(*args, **kwargs):\n    272             try:\n    273                 current_state = _state.contexts\n    274                 _state.contexts = cap_contexts[0]\n--> 275                 return fn(*args, **kwargs)\n        args = ([<zmq.sugar.frame.Frame object>, <zmq.sugar.frame.Frame object>, <zmq.sugar.frame.Frame object>, <zmq.sugar.frame.Frame object>, <zmq.sugar.frame.Frame object>, <zmq.sugar.frame.Frame object>, <zmq.sugar.frame.Frame object>],)\n        kwargs = {}\n    276             finally:\n    277                 _state.contexts = current_state\n    278         null_wrapper._wrapped = True\n    279         return null_wrapper\n\n...........................................................................\n/home/victor/anaconda2/lib/python2.7/site-packages/ipykernel/kernelbase.py in dispatcher(msg=[<zmq.sugar.frame.Frame object>, <zmq.sugar.frame.Frame object>, <zmq.sugar.frame.Frame object>, <zmq.sugar.frame.Frame object>, <zmq.sugar.frame.Frame object>, <zmq.sugar.frame.Frame object>, <zmq.sugar.frame.Frame object>])\n    271         if self.control_stream:\n    272             self.control_stream.on_recv(self.dispatch_control, copy=False)\n    273 \n    274         def make_dispatcher(stream):\n    275             def dispatcher(msg):\n--> 276                 return self.dispatch_shell(stream, msg)\n        msg = [<zmq.sugar.frame.Frame object>, <zmq.sugar.frame.Frame object>, <zmq.sugar.frame.Frame object>, <zmq.sugar.frame.Frame object>, <zmq.sugar.frame.Frame object>, <zmq.sugar.frame.Frame object>, <zmq.sugar.frame.Frame object>]\n    277             return dispatcher\n    278 \n    279         for s in self.shell_streams:\n    280             s.on_recv(make_dispatcher(s), copy=False)\n\n...........................................................................\n/home/victor/anaconda2/lib/python2.7/site-packages/ipykernel/kernelbase.py in dispatch_shell(self=<ipykernel.ipkernel.IPythonKernel object>, stream=<zmq.eventloop.zmqstream.ZMQStream object>, msg={'buffers': [], 'content': {u'allow_stdin': True, u'code': u'# Initiate the linear regression model and plo...ssion, title, X_train, y_train, cv=5, n_jobs=-1)', u'silent': False, u'stop_on_error': True, u'store_history': True, u'user_expressions': {}}, 'header': {'date': '2017-08-06T14:22:21.581664', u'msg_id': u'9864A19710534A778D568CA476D23590', u'msg_type': u'execute_request', u'session': u'586F6F5767A84157A2DB2329A8B47ABC', u'username': u'username', u'version': u'5.0'}, 'metadata': {}, 'msg_id': u'9864A19710534A778D568CA476D23590', 'msg_type': u'execute_request', 'parent_header': {}})\n    223             self.log.error(\"UNKNOWN MESSAGE TYPE: %r\", msg_type)\n    224         else:\n    225             self.log.debug(\"%s: %s\", msg_type, msg)\n    226             self.pre_handler_hook()\n    227             try:\n--> 228                 handler(stream, idents, msg)\n        handler = <bound method IPythonKernel.execute_request of <ipykernel.ipkernel.IPythonKernel object>>\n        stream = <zmq.eventloop.zmqstream.ZMQStream object>\n        idents = ['586F6F5767A84157A2DB2329A8B47ABC']\n        msg = {'buffers': [], 'content': {u'allow_stdin': True, u'code': u'# Initiate the linear regression model and plo...ssion, title, X_train, y_train, cv=5, n_jobs=-1)', u'silent': False, u'stop_on_error': True, u'store_history': True, u'user_expressions': {}}, 'header': {'date': '2017-08-06T14:22:21.581664', u'msg_id': u'9864A19710534A778D568CA476D23590', u'msg_type': u'execute_request', u'session': u'586F6F5767A84157A2DB2329A8B47ABC', u'username': u'username', u'version': u'5.0'}, 'metadata': {}, 'msg_id': u'9864A19710534A778D568CA476D23590', 'msg_type': u'execute_request', 'parent_header': {}}\n    229             except Exception:\n    230                 self.log.error(\"Exception in message handler:\", exc_info=True)\n    231             finally:\n    232                 self.post_handler_hook()\n\n...........................................................................\n/home/victor/anaconda2/lib/python2.7/site-packages/ipykernel/kernelbase.py in execute_request(self=<ipykernel.ipkernel.IPythonKernel object>, stream=<zmq.eventloop.zmqstream.ZMQStream object>, ident=['586F6F5767A84157A2DB2329A8B47ABC'], parent={'buffers': [], 'content': {u'allow_stdin': True, u'code': u'# Initiate the linear regression model and plo...ssion, title, X_train, y_train, cv=5, n_jobs=-1)', u'silent': False, u'stop_on_error': True, u'store_history': True, u'user_expressions': {}}, 'header': {'date': '2017-08-06T14:22:21.581664', u'msg_id': u'9864A19710534A778D568CA476D23590', u'msg_type': u'execute_request', u'session': u'586F6F5767A84157A2DB2329A8B47ABC', u'username': u'username', u'version': u'5.0'}, 'metadata': {}, 'msg_id': u'9864A19710534A778D568CA476D23590', 'msg_type': u'execute_request', 'parent_header': {}})\n    385         if not silent:\n    386             self.execution_count += 1\n    387             self._publish_execute_input(code, parent, self.execution_count)\n    388 \n    389         reply_content = self.do_execute(code, silent, store_history,\n--> 390                                         user_expressions, allow_stdin)\n        user_expressions = {}\n        allow_stdin = True\n    391 \n    392         # Flush output before sending the reply.\n    393         sys.stdout.flush()\n    394         sys.stderr.flush()\n\n...........................................................................\n/home/victor/anaconda2/lib/python2.7/site-packages/ipykernel/ipkernel.py in do_execute(self=<ipykernel.ipkernel.IPythonKernel object>, code=u'# Initiate the linear regression model and plo...ssion, title, X_train, y_train, cv=5, n_jobs=-1)', silent=False, store_history=True, user_expressions={}, allow_stdin=True)\n    191 \n    192         self._forward_input(allow_stdin)\n    193 \n    194         reply_content = {}\n    195         try:\n--> 196             res = shell.run_cell(code, store_history=store_history, silent=silent)\n        res = undefined\n        shell.run_cell = <bound method ZMQInteractiveShell.run_cell of <ipykernel.zmqshell.ZMQInteractiveShell object>>\n        code = u'# Initiate the linear regression model and plo...ssion, title, X_train, y_train, cv=5, n_jobs=-1)'\n        store_history = True\n        silent = False\n    197         finally:\n    198             self._restore_input()\n    199 \n    200         if res.error_before_exec is not None:\n\n...........................................................................\n/home/victor/anaconda2/lib/python2.7/site-packages/ipykernel/zmqshell.py in run_cell(self=<ipykernel.zmqshell.ZMQInteractiveShell object>, *args=(u'# Initiate the linear regression model and plo...ssion, title, X_train, y_train, cv=5, n_jobs=-1)',), **kwargs={'silent': False, 'store_history': True})\n    496             )\n    497         self.payload_manager.write_payload(payload)\n    498 \n    499     def run_cell(self, *args, **kwargs):\n    500         self._last_traceback = None\n--> 501         return super(ZMQInteractiveShell, self).run_cell(*args, **kwargs)\n        self.run_cell = <bound method ZMQInteractiveShell.run_cell of <ipykernel.zmqshell.ZMQInteractiveShell object>>\n        args = (u'# Initiate the linear regression model and plo...ssion, title, X_train, y_train, cv=5, n_jobs=-1)',)\n        kwargs = {'silent': False, 'store_history': True}\n    502 \n    503     def _showtraceback(self, etype, evalue, stb):\n    504         # try to preserve ordering of tracebacks and print statements\n    505         sys.stdout.flush()\n\n...........................................................................\n/home/victor/anaconda2/lib/python2.7/site-packages/IPython/core/interactiveshell.py in run_cell(self=<ipykernel.zmqshell.ZMQInteractiveShell object>, raw_cell=u'# Initiate the linear regression model and plo...ssion, title, X_train, y_train, cv=5, n_jobs=-1)', store_history=True, silent=False, shell_futures=True)\n   2712                 self.displayhook.exec_result = result\n   2713 \n   2714                 # Execute the user code\n   2715                 interactivity = \"none\" if silent else self.ast_node_interactivity\n   2716                 has_raised = self.run_ast_nodes(code_ast.body, cell_name,\n-> 2717                    interactivity=interactivity, compiler=compiler, result=result)\n        interactivity = 'last_expr'\n        compiler = <IPython.core.compilerop.CachingCompiler instance>\n   2718                 \n   2719                 self.last_execution_succeeded = not has_raised\n   2720 \n   2721                 # Reset this so later displayed values do not modify the\n\n...........................................................................\n/home/victor/anaconda2/lib/python2.7/site-packages/IPython/core/interactiveshell.py in run_ast_nodes(self=<ipykernel.zmqshell.ZMQInteractiveShell object>, nodelist=[<_ast.Assign object>, <_ast.Assign object>, <_ast.Expr object>], cell_name='<ipython-input-23-2f7df9a43653>', interactivity='last', compiler=<IPython.core.compilerop.CachingCompiler instance>, result=<ExecutionResult object at 7f847ab1a450, executi..._before_exec=None error_in_exec=None result=None>)\n   2822                     return True\n   2823 \n   2824             for i, node in enumerate(to_run_interactive):\n   2825                 mod = ast.Interactive([node])\n   2826                 code = compiler(mod, cell_name, \"single\")\n-> 2827                 if self.run_code(code, result):\n        self.run_code = <bound method ZMQInteractiveShell.run_code of <ipykernel.zmqshell.ZMQInteractiveShell object>>\n        code = <code object <module> at 0x7f846640d330, file \"<ipython-input-23-2f7df9a43653>\", line 4>\n        result = <ExecutionResult object at 7f847ab1a450, executi..._before_exec=None error_in_exec=None result=None>\n   2828                     return True\n   2829 \n   2830             # Flush softspace\n   2831             if softspace(sys.stdout, 0):\n\n...........................................................................\n/home/victor/anaconda2/lib/python2.7/site-packages/IPython/core/interactiveshell.py in run_code(self=<ipykernel.zmqshell.ZMQInteractiveShell object>, code_obj=<code object <module> at 0x7f846640d330, file \"<ipython-input-23-2f7df9a43653>\", line 4>, result=<ExecutionResult object at 7f847ab1a450, executi..._before_exec=None error_in_exec=None result=None>)\n   2876         outflag = 1  # happens in more places, so it's easier as default\n   2877         try:\n   2878             try:\n   2879                 self.hooks.pre_run_code_hook()\n   2880                 #rprint('Running code', repr(code_obj)) # dbg\n-> 2881                 exec(code_obj, self.user_global_ns, self.user_ns)\n        code_obj = <code object <module> at 0x7f846640d330, file \"<ipython-input-23-2f7df9a43653>\", line 4>\n        self.user_global_ns = {'ALLOW_THREADS': 1, 'Annotation': <class 'matplotlib.text.Annotation'>, 'Arrow': <class 'matplotlib.patches.Arrow'>, 'Artist': <class 'matplotlib.artist.Artist'>, 'AutoLocator': <class 'matplotlib.ticker.AutoLocator'>, 'Axes': <class 'matplotlib.axes._axes.Axes'>, 'BUFSIZE': 8192, 'Button': <class 'matplotlib.widgets.Button'>, 'CLIP': 0, 'Circle': <class 'matplotlib.patches.Circle'>, ...}\n        self.user_ns = {'ALLOW_THREADS': 1, 'Annotation': <class 'matplotlib.text.Annotation'>, 'Arrow': <class 'matplotlib.patches.Arrow'>, 'Artist': <class 'matplotlib.artist.Artist'>, 'AutoLocator': <class 'matplotlib.ticker.AutoLocator'>, 'Axes': <class 'matplotlib.axes._axes.Axes'>, 'BUFSIZE': 8192, 'Button': <class 'matplotlib.widgets.Button'>, 'CLIP': 0, 'Circle': <class 'matplotlib.patches.Circle'>, ...}\n   2882             finally:\n   2883                 # Reset our crash handler in place\n   2884                 sys.excepthook = old_excepthook\n   2885         except SystemExit as e:\n\n...........................................................................\n/home/victor/workspace/new_york_city_taxi/<ipython-input-23-2f7df9a43653> in <module>()\n      1 \n      2 \n      3 # Initiate the linear regression model and plot the learning curve with default data\n----> 4 linear_regression = linear_model.LinearRegression()\n      5 title = \"Learning curve: (Linear Regression )\"\n      6 plot_learning_curve(linear_regression, title, X_train, y_train, cv=5, n_jobs=-1)\n      7 \n      8 \n      9 \n     10 \n\n...........................................................................\n/home/victor/workspace/new_york_city_taxi/<ipython-input-22-3939674a0cd1> in plot_learning_curve(estimator=LinearRegression(copy_X=True, fit_intercept=True, n_jobs=1, normalize=False), title='Learning curve: (Linear Regression )', X=         vendor_id      pickup_datetime  passeng...                 0  \n\n[1021050 rows x 33 columns], y=1011257     844\n178550     1001\n551460     1048\n...121958     1570\nName: trip_duration, dtype: int64, ylim=None, cv=5, n_jobs=-1, train_sizes=array([ 0.1  ,  0.325,  0.55 ,  0.775,  1.   ]))\n      7         plt.ylim(*ylim)\n      8     plt.xlabel(\"N (Training Set Sizes)\")\n      9     plt.ylabel(\"Mean Square Error\")\n     10     train_sizes, train_scores, test_scores = learning_curve(\n     11         estimator, X, y, cv=cv, n_jobs=n_jobs,\n---> 12         scoring=make_scorer(mean_squared_error), train_sizes=train_sizes)\n     13     train_scores_mean = np.mean(train_scores, axis=1)\n     14     train_scores_std = np.std(train_scores, axis=1)\n     15     test_scores_mean = np.mean(test_scores, axis=1)\n     16     test_scores_std = np.std(test_scores, axis=1)\n\n...........................................................................\n/home/victor/anaconda2/lib/python2.7/site-packages/sklearn/model_selection/_validation.py in learning_curve(estimator=LinearRegression(copy_X=True, fit_intercept=True, n_jobs=1, normalize=False), X=         vendor_id      pickup_datetime  passeng...                 0  \n\n[1021050 rows x 33 columns], y=1011257     844\n178550     1001\n551460     1048\n...121958     1570\nName: trip_duration, dtype: int64, groups=None, train_sizes=array([ 0.1  ,  0.325,  0.55 ,  0.775,  1.   ]), cv=KFold(n_splits=5, random_state=None, shuffle=False), scoring=make_scorer(mean_squared_error), exploit_incremental_learning=False, n_jobs=-1, pre_dispatch='all', verbose=0)\n    767             scorer, verbose) for train, test in cv_iter)\n    768     else:\n    769         out = parallel(delayed(_fit_and_score)(\n    770             clone(estimator), X, y, scorer, train[:n_train_samples], test,\n    771             verbose, parameters=None, fit_params=None, return_train_score=True)\n--> 772             for train, test in cv_iter\n        cv_iter = [(array([ 204210,  204211,  204212, ..., 1021047, 1021048, 1021049]), array([     0,      1,      2, ..., 204207, 204208, 204209])), (array([      0,       1,       2, ..., 1021047, 1021048, 1021049]), array([204210, 204211, 204212, ..., 408417, 408418, 408419])), (array([      0,       1,       2, ..., 1021047, 1021048, 1021049]), array([408420, 408421, 408422, ..., 612627, 612628, 612629])), (array([      0,       1,       2, ..., 1021047, 1021048, 1021049]), array([612630, 612631, 612632, ..., 816837, 816838, 816839])), (array([     0,      1,      2, ..., 816837, 816838, 816839]), array([ 816840,  816841,  816842, ..., 1021047, 1021048, 1021049]))]\n    773             for n_train_samples in train_sizes_abs)\n    774         out = np.array(out)\n    775         n_cv_folds = out.shape[0] // n_unique_ticks\n    776         out = out.reshape(n_cv_folds, n_unique_ticks, 2)\n\n...........................................................................\n/home/victor/anaconda2/lib/python2.7/site-packages/sklearn/externals/joblib/parallel.py in __call__(self=Parallel(n_jobs=-1), iterable=<generator object <genexpr>>)\n    763             if pre_dispatch == \"all\" or n_jobs == 1:\n    764                 # The iterable was consumed all at once by the above for loop.\n    765                 # No need to wait for async callbacks to trigger to\n    766                 # consumption.\n    767                 self._iterating = False\n--> 768             self.retrieve()\n        self.retrieve = <bound method Parallel.retrieve of Parallel(n_jobs=-1)>\n    769             # Make sure that we get a last message telling us we are done\n    770             elapsed_time = time.time() - self._start_time\n    771             self._print('Done %3i out of %3i | elapsed: %s finished',\n    772                         (len(self._output), len(self._output),\n\n---------------------------------------------------------------------------\nSub-process traceback:\n---------------------------------------------------------------------------\nValueError                                         Sun Aug  6 14:22:24 2017\nPID: 3265                  Python 2.7.13: /home/victor/anaconda2/bin/python\n...........................................................................\n/home/victor/anaconda2/lib/python2.7/site-packages/sklearn/externals/joblib/parallel.py in __call__(self=<sklearn.externals.joblib.parallel.BatchedCalls object>)\n    126     def __init__(self, iterator_slice):\n    127         self.items = list(iterator_slice)\n    128         self._size = len(self.items)\n    129 \n    130     def __call__(self):\n--> 131         return [func(*args, **kwargs) for func, args, kwargs in self.items]\n        func = <function _fit_and_score>\n        args = (LinearRegression(copy_X=True, fit_intercept=True, n_jobs=1, normalize=False),          vendor_id      pickup_datetime  passeng...                 0  \n\n[1021050 rows x 33 columns], 1011257     844\n178550     1001\n551460     1048\n...121958     1570\nName: trip_duration, dtype: int64, make_scorer(mean_squared_error), array([204210, 204211, 204212, ..., 285891, 285892, 285893]), memmap([     0,      1,      2, ..., 204207, 204208, 204209]), 0)\n        kwargs = {'fit_params': None, 'parameters': None, 'return_train_score': True}\n        self.items = [(<function _fit_and_score>, (LinearRegression(copy_X=True, fit_intercept=True, n_jobs=1, normalize=False),          vendor_id      pickup_datetime  passeng...                 0  \n\n[1021050 rows x 33 columns], 1011257     844\n178550     1001\n551460     1048\n...121958     1570\nName: trip_duration, dtype: int64, make_scorer(mean_squared_error), array([204210, 204211, 204212, ..., 285891, 285892, 285893]), memmap([     0,      1,      2, ..., 204207, 204208, 204209]), 0), {'fit_params': None, 'parameters': None, 'return_train_score': True})]\n    132 \n    133     def __len__(self):\n    134         return self._size\n    135 \n\n...........................................................................\n/home/victor/anaconda2/lib/python2.7/site-packages/sklearn/model_selection/_validation.py in _fit_and_score(estimator=LinearRegression(copy_X=True, fit_intercept=True, n_jobs=1, normalize=False), X=         vendor_id      pickup_datetime  passeng...                 0  \n\n[1021050 rows x 33 columns], y=1011257     844\n178550     1001\n551460     1048\n...121958     1570\nName: trip_duration, dtype: int64, scorer=make_scorer(mean_squared_error), train=array([204210, 204211, 204212, ..., 285891, 285892, 285893]), test=memmap([     0,      1,      2, ..., 204207, 204208, 204209]), verbose=0, parameters=None, fit_params={}, return_train_score=True, return_parameters=False, return_n_test_samples=False, return_times=False, error_score='raise')\n    233 \n    234     try:\n    235         if y_train is None:\n    236             estimator.fit(X_train, **fit_params)\n    237         else:\n--> 238             estimator.fit(X_train, y_train, **fit_params)\n        estimator.fit = <bound method LinearRegression.fit of LinearRegr..., fit_intercept=True, n_jobs=1, normalize=False)>\n        X_train =          vendor_id      pickup_datetime  passeng...                   0  \n\n[81684 rows x 33 columns]\n        y_train = 1183345     846\n1354941     975\n340936     1141\n...1042817     257\nName: trip_duration, dtype: int64\n        fit_params = {}\n    239 \n    240     except Exception as e:\n    241         # Note fit time as time until error\n    242         fit_time = time.time() - start_time\n\n...........................................................................\n/home/victor/anaconda2/lib/python2.7/site-packages/sklearn/linear_model/base.py in fit(self=LinearRegression(copy_X=True, fit_intercept=True, n_jobs=1, normalize=False), X=         vendor_id      pickup_datetime  passeng...                   0  \n\n[81684 rows x 33 columns], y=1183345     846\n1354941     975\n340936     1141\n...1042817     257\nName: trip_duration, dtype: int64, sample_weight=None)\n    507         self : returns an instance of self.\n    508         \"\"\"\n    509 \n    510         n_jobs_ = self.n_jobs\n    511         X, y = check_X_y(X, y, accept_sparse=['csr', 'csc', 'coo'],\n--> 512                          y_numeric=True, multi_output=True)\n    513 \n    514         if sample_weight is not None and np.atleast_1d(sample_weight).ndim > 1:\n    515             raise ValueError(\"Sample weights must be 1D array or scalar\")\n    516 \n\n...........................................................................\n/home/victor/anaconda2/lib/python2.7/site-packages/sklearn/utils/validation.py in check_X_y(X=         vendor_id      pickup_datetime  passeng...                   0  \n\n[81684 rows x 33 columns], y=1183345     846\n1354941     975\n340936     1141\n...1042817     257\nName: trip_duration, dtype: int64, accept_sparse=['csr', 'csc', 'coo'], dtype='numeric', order=None, copy=False, force_all_finite=True, ensure_2d=True, allow_nd=False, multi_output=True, ensure_min_samples=1, ensure_min_features=1, y_numeric=True, warn_on_dtype=False, estimator=None)\n    516     y_converted : object\n    517         The converted and validated y.\n    518     \"\"\"\n    519     X = check_array(X, accept_sparse, dtype, order, copy, force_all_finite,\n    520                     ensure_2d, allow_nd, ensure_min_samples,\n--> 521                     ensure_min_features, warn_on_dtype, estimator)\n        ensure_min_features = 1\n        warn_on_dtype = False\n        estimator = None\n    522     if multi_output:\n    523         y = check_array(y, 'csr', force_all_finite=True, ensure_2d=False,\n    524                         dtype=None)\n    525     else:\n\n...........................................................................\n/home/victor/anaconda2/lib/python2.7/site-packages/sklearn/utils/validation.py in check_array(array=array([[1, '2016-01-02 16:26:39', 2, ..., 0, 0, ...02-12 10:40:05', 1, ..., 0, 1, 0]], dtype=object), accept_sparse=['csr', 'csc', 'coo'], dtype=None, order=None, copy=False, force_all_finite=True, ensure_2d=True, allow_nd=False, ensure_min_samples=1, ensure_min_features=1, warn_on_dtype=False, estimator=None)\n    397             # To ensure that array flags are maintained\n    398             array = np.array(array, dtype=dtype, order=order, copy=copy)\n    399 \n    400         # make sure we actually converted to numeric:\n    401         if dtype_numeric and array.dtype.kind == \"O\":\n--> 402             array = array.astype(np.float64)\n        array = array([[1, '2016-01-02 16:26:39', 2, ..., 0, 0, ...02-12 10:40:05', 1, ..., 0, 1, 0]], dtype=object)\n        array.astype = <built-in method astype of numpy.ndarray object>\n    403         if not allow_nd and array.ndim >= 3:\n    404             raise ValueError(\"Found array with dim %d. %s expected <= 2.\"\n    405                              % (array.ndim, estimator_name))\n    406         if force_all_finite:\n\nValueError: invalid literal for float(): 2016-02-12\n___________________________________________________________________________",
     "output_type": "error",
     "traceback": [
      "\u001b[0;31m---------------------------------------------------------------------------\u001b[0m",
      "\u001b[0;31mJoblibValueError\u001b[0m                          Traceback (most recent call last)",
      "\u001b[0;32m<ipython-input-23-2f7df9a43653>\u001b[0m in \u001b[0;36m<module>\u001b[0;34m()\u001b[0m\n\u001b[1;32m      2\u001b[0m \u001b[0mlinear_regression\u001b[0m \u001b[0;34m=\u001b[0m \u001b[0mlinear_model\u001b[0m\u001b[0;34m.\u001b[0m\u001b[0mLinearRegression\u001b[0m\u001b[0;34m(\u001b[0m\u001b[0;34m)\u001b[0m\u001b[0;34m\u001b[0m\u001b[0m\n\u001b[1;32m      3\u001b[0m \u001b[0mtitle\u001b[0m \u001b[0;34m=\u001b[0m \u001b[0;34m\"Learning curve: (Linear Regression )\"\u001b[0m\u001b[0;34m\u001b[0m\u001b[0m\n\u001b[0;32m----> 4\u001b[0;31m \u001b[0mplot_learning_curve\u001b[0m\u001b[0;34m(\u001b[0m\u001b[0mlinear_regression\u001b[0m\u001b[0;34m,\u001b[0m \u001b[0mtitle\u001b[0m\u001b[0;34m,\u001b[0m \u001b[0mX_train\u001b[0m\u001b[0;34m,\u001b[0m \u001b[0my_train\u001b[0m\u001b[0;34m,\u001b[0m \u001b[0mcv\u001b[0m\u001b[0;34m=\u001b[0m\u001b[0;36m5\u001b[0m\u001b[0;34m,\u001b[0m \u001b[0mn_jobs\u001b[0m\u001b[0;34m=\u001b[0m\u001b[0;34m-\u001b[0m\u001b[0;36m1\u001b[0m\u001b[0;34m)\u001b[0m\u001b[0;34m\u001b[0m\u001b[0m\n\u001b[0m",
      "\u001b[0;32m<ipython-input-22-3939674a0cd1>\u001b[0m in \u001b[0;36mplot_learning_curve\u001b[0;34m(estimator, title, X, y, ylim, cv, n_jobs, train_sizes)\u001b[0m\n\u001b[1;32m     10\u001b[0m     train_sizes, train_scores, test_scores = learning_curve(\n\u001b[1;32m     11\u001b[0m         \u001b[0mestimator\u001b[0m\u001b[0;34m,\u001b[0m \u001b[0mX\u001b[0m\u001b[0;34m,\u001b[0m \u001b[0my\u001b[0m\u001b[0;34m,\u001b[0m \u001b[0mcv\u001b[0m\u001b[0;34m=\u001b[0m\u001b[0mcv\u001b[0m\u001b[0;34m,\u001b[0m \u001b[0mn_jobs\u001b[0m\u001b[0;34m=\u001b[0m\u001b[0mn_jobs\u001b[0m\u001b[0;34m,\u001b[0m\u001b[0;34m\u001b[0m\u001b[0m\n\u001b[0;32m---> 12\u001b[0;31m         scoring=make_scorer(mean_squared_error), train_sizes=train_sizes)\n\u001b[0m\u001b[1;32m     13\u001b[0m     \u001b[0mtrain_scores_mean\u001b[0m \u001b[0;34m=\u001b[0m \u001b[0mnp\u001b[0m\u001b[0;34m.\u001b[0m\u001b[0mmean\u001b[0m\u001b[0;34m(\u001b[0m\u001b[0mtrain_scores\u001b[0m\u001b[0;34m,\u001b[0m \u001b[0maxis\u001b[0m\u001b[0;34m=\u001b[0m\u001b[0;36m1\u001b[0m\u001b[0;34m)\u001b[0m\u001b[0;34m\u001b[0m\u001b[0m\n\u001b[1;32m     14\u001b[0m     \u001b[0mtrain_scores_std\u001b[0m \u001b[0;34m=\u001b[0m \u001b[0mnp\u001b[0m\u001b[0;34m.\u001b[0m\u001b[0mstd\u001b[0m\u001b[0;34m(\u001b[0m\u001b[0mtrain_scores\u001b[0m\u001b[0;34m,\u001b[0m \u001b[0maxis\u001b[0m\u001b[0;34m=\u001b[0m\u001b[0;36m1\u001b[0m\u001b[0;34m)\u001b[0m\u001b[0;34m\u001b[0m\u001b[0m\n",
      "\u001b[0;32m/home/victor/anaconda2/lib/python2.7/site-packages/sklearn/model_selection/_validation.pyc\u001b[0m in \u001b[0;36mlearning_curve\u001b[0;34m(estimator, X, y, groups, train_sizes, cv, scoring, exploit_incremental_learning, n_jobs, pre_dispatch, verbose)\u001b[0m\n\u001b[1;32m    770\u001b[0m             \u001b[0mclone\u001b[0m\u001b[0;34m(\u001b[0m\u001b[0mestimator\u001b[0m\u001b[0;34m)\u001b[0m\u001b[0;34m,\u001b[0m \u001b[0mX\u001b[0m\u001b[0;34m,\u001b[0m \u001b[0my\u001b[0m\u001b[0;34m,\u001b[0m \u001b[0mscorer\u001b[0m\u001b[0;34m,\u001b[0m \u001b[0mtrain\u001b[0m\u001b[0;34m[\u001b[0m\u001b[0;34m:\u001b[0m\u001b[0mn_train_samples\u001b[0m\u001b[0;34m]\u001b[0m\u001b[0;34m,\u001b[0m \u001b[0mtest\u001b[0m\u001b[0;34m,\u001b[0m\u001b[0;34m\u001b[0m\u001b[0m\n\u001b[1;32m    771\u001b[0m             verbose, parameters=None, fit_params=None, return_train_score=True)\n\u001b[0;32m--> 772\u001b[0;31m             \u001b[0;32mfor\u001b[0m \u001b[0mtrain\u001b[0m\u001b[0;34m,\u001b[0m \u001b[0mtest\u001b[0m \u001b[0;32min\u001b[0m \u001b[0mcv_iter\u001b[0m\u001b[0;34m\u001b[0m\u001b[0m\n\u001b[0m\u001b[1;32m    773\u001b[0m             for n_train_samples in train_sizes_abs)\n\u001b[1;32m    774\u001b[0m         \u001b[0mout\u001b[0m \u001b[0;34m=\u001b[0m \u001b[0mnp\u001b[0m\u001b[0;34m.\u001b[0m\u001b[0marray\u001b[0m\u001b[0;34m(\u001b[0m\u001b[0mout\u001b[0m\u001b[0;34m)\u001b[0m\u001b[0;34m\u001b[0m\u001b[0m\n",
      "\u001b[0;32m/home/victor/anaconda2/lib/python2.7/site-packages/sklearn/externals/joblib/parallel.pyc\u001b[0m in \u001b[0;36m__call__\u001b[0;34m(self, iterable)\u001b[0m\n\u001b[1;32m    766\u001b[0m                 \u001b[0;31m# consumption.\u001b[0m\u001b[0;34m\u001b[0m\u001b[0;34m\u001b[0m\u001b[0m\n\u001b[1;32m    767\u001b[0m                 \u001b[0mself\u001b[0m\u001b[0;34m.\u001b[0m\u001b[0m_iterating\u001b[0m \u001b[0;34m=\u001b[0m \u001b[0mFalse\u001b[0m\u001b[0;34m\u001b[0m\u001b[0m\n\u001b[0;32m--> 768\u001b[0;31m             \u001b[0mself\u001b[0m\u001b[0;34m.\u001b[0m\u001b[0mretrieve\u001b[0m\u001b[0;34m(\u001b[0m\u001b[0;34m)\u001b[0m\u001b[0;34m\u001b[0m\u001b[0m\n\u001b[0m\u001b[1;32m    769\u001b[0m             \u001b[0;31m# Make sure that we get a last message telling us we are done\u001b[0m\u001b[0;34m\u001b[0m\u001b[0;34m\u001b[0m\u001b[0m\n\u001b[1;32m    770\u001b[0m             \u001b[0melapsed_time\u001b[0m \u001b[0;34m=\u001b[0m \u001b[0mtime\u001b[0m\u001b[0;34m.\u001b[0m\u001b[0mtime\u001b[0m\u001b[0;34m(\u001b[0m\u001b[0;34m)\u001b[0m \u001b[0;34m-\u001b[0m \u001b[0mself\u001b[0m\u001b[0;34m.\u001b[0m\u001b[0m_start_time\u001b[0m\u001b[0;34m\u001b[0m\u001b[0m\n",
      "\u001b[0;32m/home/victor/anaconda2/lib/python2.7/site-packages/sklearn/externals/joblib/parallel.pyc\u001b[0m in \u001b[0;36mretrieve\u001b[0;34m(self)\u001b[0m\n\u001b[1;32m    717\u001b[0m                     \u001b[0mensure_ready\u001b[0m \u001b[0;34m=\u001b[0m \u001b[0mself\u001b[0m\u001b[0;34m.\u001b[0m\u001b[0m_managed_backend\u001b[0m\u001b[0;34m\u001b[0m\u001b[0m\n\u001b[1;32m    718\u001b[0m                     \u001b[0mbackend\u001b[0m\u001b[0;34m.\u001b[0m\u001b[0mabort_everything\u001b[0m\u001b[0;34m(\u001b[0m\u001b[0mensure_ready\u001b[0m\u001b[0;34m=\u001b[0m\u001b[0mensure_ready\u001b[0m\u001b[0;34m)\u001b[0m\u001b[0;34m\u001b[0m\u001b[0m\n\u001b[0;32m--> 719\u001b[0;31m                 \u001b[0;32mraise\u001b[0m \u001b[0mexception\u001b[0m\u001b[0;34m\u001b[0m\u001b[0m\n\u001b[0m\u001b[1;32m    720\u001b[0m \u001b[0;34m\u001b[0m\u001b[0m\n\u001b[1;32m    721\u001b[0m     \u001b[0;32mdef\u001b[0m \u001b[0m__call__\u001b[0m\u001b[0;34m(\u001b[0m\u001b[0mself\u001b[0m\u001b[0;34m,\u001b[0m \u001b[0miterable\u001b[0m\u001b[0;34m)\u001b[0m\u001b[0;34m:\u001b[0m\u001b[0;34m\u001b[0m\u001b[0m\n",
      "\u001b[0;31mJoblibValueError\u001b[0m: JoblibValueError\n___________________________________________________________________________\nMultiprocessing exception:\n...........................................................................\n/home/victor/anaconda2/lib/python2.7/runpy.py in _run_module_as_main(mod_name='ipykernel.__main__', alter_argv=1)\n    169     pkg_name = mod_name.rpartition('.')[0]\n    170     main_globals = sys.modules[\"__main__\"].__dict__\n    171     if alter_argv:\n    172         sys.argv[0] = fname\n    173     return _run_code(code, main_globals, None,\n--> 174                      \"__main__\", fname, loader, pkg_name)\n        fname = '/home/victor/anaconda2/lib/python2.7/site-packages/ipykernel/__main__.py'\n        loader = <pkgutil.ImpLoader instance>\n        pkg_name = 'ipykernel'\n    175 \n    176 def run_module(mod_name, init_globals=None,\n    177                run_name=None, alter_sys=False):\n    178     \"\"\"Execute a module's code without importing it\n\n...........................................................................\n/home/victor/anaconda2/lib/python2.7/runpy.py in _run_code(code=<code object <module> at 0x7f84bcfd4930, file \"/...2.7/site-packages/ipykernel/__main__.py\", line 1>, run_globals={'__builtins__': <module '__builtin__' (built-in)>, '__doc__': None, '__file__': '/home/victor/anaconda2/lib/python2.7/site-packages/ipykernel/__main__.py', '__loader__': <pkgutil.ImpLoader instance>, '__name__': '__main__', '__package__': 'ipykernel', 'app': <module 'ipykernel.kernelapp' from '/home/victor...python2.7/site-packages/ipykernel/kernelapp.pyc'>}, init_globals=None, mod_name='__main__', mod_fname='/home/victor/anaconda2/lib/python2.7/site-packages/ipykernel/__main__.py', mod_loader=<pkgutil.ImpLoader instance>, pkg_name='ipykernel')\n     67         run_globals.update(init_globals)\n     68     run_globals.update(__name__ = mod_name,\n     69                        __file__ = mod_fname,\n     70                        __loader__ = mod_loader,\n     71                        __package__ = pkg_name)\n---> 72     exec code in run_globals\n        code = <code object <module> at 0x7f84bcfd4930, file \"/...2.7/site-packages/ipykernel/__main__.py\", line 1>\n        run_globals = {'__builtins__': <module '__builtin__' (built-in)>, '__doc__': None, '__file__': '/home/victor/anaconda2/lib/python2.7/site-packages/ipykernel/__main__.py', '__loader__': <pkgutil.ImpLoader instance>, '__name__': '__main__', '__package__': 'ipykernel', 'app': <module 'ipykernel.kernelapp' from '/home/victor...python2.7/site-packages/ipykernel/kernelapp.pyc'>}\n     73     return run_globals\n     74 \n     75 def _run_module_code(code, init_globals=None,\n     76                     mod_name=None, mod_fname=None,\n\n...........................................................................\n/home/victor/anaconda2/lib/python2.7/site-packages/ipykernel/__main__.py in <module>()\n      1 \n      2 \n----> 3 \n      4 if __name__ == '__main__':\n      5     from ipykernel import kernelapp as app\n      6     app.launch_new_instance()\n      7 \n      8 \n      9 \n     10 \n\n...........................................................................\n/home/victor/anaconda2/lib/python2.7/site-packages/traitlets/config/application.py in launch_instance(cls=<class 'ipykernel.kernelapp.IPKernelApp'>, argv=None, **kwargs={})\n    653 \n    654         If a global instance already exists, this reinitializes and starts it\n    655         \"\"\"\n    656         app = cls.instance(**kwargs)\n    657         app.initialize(argv)\n--> 658         app.start()\n        app.start = <bound method IPKernelApp.start of <ipykernel.kernelapp.IPKernelApp object>>\n    659 \n    660 #-----------------------------------------------------------------------------\n    661 # utility functions, for convenience\n    662 #-----------------------------------------------------------------------------\n\n...........................................................................\n/home/victor/anaconda2/lib/python2.7/site-packages/ipykernel/kernelapp.py in start(self=<ipykernel.kernelapp.IPKernelApp object>)\n    469             return self.subapp.start()\n    470         if self.poller is not None:\n    471             self.poller.start()\n    472         self.kernel.start()\n    473         try:\n--> 474             ioloop.IOLoop.instance().start()\n    475         except KeyboardInterrupt:\n    476             pass\n    477 \n    478 launch_new_instance = IPKernelApp.launch_instance\n\n...........................................................................\n/home/victor/anaconda2/lib/python2.7/site-packages/zmq/eventloop/ioloop.py in start(self=<zmq.eventloop.ioloop.ZMQIOLoop object>)\n    172             )\n    173         return loop\n    174     \n    175     def start(self):\n    176         try:\n--> 177             super(ZMQIOLoop, self).start()\n        self.start = <bound method ZMQIOLoop.start of <zmq.eventloop.ioloop.ZMQIOLoop object>>\n    178         except ZMQError as e:\n    179             if e.errno == ETERM:\n    180                 # quietly return on ETERM\n    181                 pass\n\n...........................................................................\n/home/victor/anaconda2/lib/python2.7/site-packages/tornado/ioloop.py in start(self=<zmq.eventloop.ioloop.ZMQIOLoop object>)\n    882                 self._events.update(event_pairs)\n    883                 while self._events:\n    884                     fd, events = self._events.popitem()\n    885                     try:\n    886                         fd_obj, handler_func = self._handlers[fd]\n--> 887                         handler_func(fd_obj, events)\n        handler_func = <function null_wrapper>\n        fd_obj = <zmq.sugar.socket.Socket object>\n        events = 1\n    888                     except (OSError, IOError) as e:\n    889                         if errno_from_exception(e) == errno.EPIPE:\n    890                             # Happens when the client closes the connection\n    891                             pass\n\n...........................................................................\n/home/victor/anaconda2/lib/python2.7/site-packages/tornado/stack_context.py in null_wrapper(*args=(<zmq.sugar.socket.Socket object>, 1), **kwargs={})\n    270         # Fast path when there are no active contexts.\n    271         def null_wrapper(*args, **kwargs):\n    272             try:\n    273                 current_state = _state.contexts\n    274                 _state.contexts = cap_contexts[0]\n--> 275                 return fn(*args, **kwargs)\n        args = (<zmq.sugar.socket.Socket object>, 1)\n        kwargs = {}\n    276             finally:\n    277                 _state.contexts = current_state\n    278         null_wrapper._wrapped = True\n    279         return null_wrapper\n\n...........................................................................\n/home/victor/anaconda2/lib/python2.7/site-packages/zmq/eventloop/zmqstream.py in _handle_events(self=<zmq.eventloop.zmqstream.ZMQStream object>, fd=<zmq.sugar.socket.Socket object>, events=1)\n    435             # dispatch events:\n    436             if events & IOLoop.ERROR:\n    437                 gen_log.error(\"got POLLERR event on ZMQStream, which doesn't make sense\")\n    438                 return\n    439             if events & IOLoop.READ:\n--> 440                 self._handle_recv()\n        self._handle_recv = <bound method ZMQStream._handle_recv of <zmq.eventloop.zmqstream.ZMQStream object>>\n    441                 if not self.socket:\n    442                     return\n    443             if events & IOLoop.WRITE:\n    444                 self._handle_send()\n\n...........................................................................\n/home/victor/anaconda2/lib/python2.7/site-packages/zmq/eventloop/zmqstream.py in _handle_recv(self=<zmq.eventloop.zmqstream.ZMQStream object>)\n    467                 gen_log.error(\"RECV Error: %s\"%zmq.strerror(e.errno))\n    468         else:\n    469             if self._recv_callback:\n    470                 callback = self._recv_callback\n    471                 # self._recv_callback = None\n--> 472                 self._run_callback(callback, msg)\n        self._run_callback = <bound method ZMQStream._run_callback of <zmq.eventloop.zmqstream.ZMQStream object>>\n        callback = <function null_wrapper>\n        msg = [<zmq.sugar.frame.Frame object>, <zmq.sugar.frame.Frame object>, <zmq.sugar.frame.Frame object>, <zmq.sugar.frame.Frame object>, <zmq.sugar.frame.Frame object>, <zmq.sugar.frame.Frame object>, <zmq.sugar.frame.Frame object>]\n    473                 \n    474         # self.update_state()\n    475         \n    476 \n\n...........................................................................\n/home/victor/anaconda2/lib/python2.7/site-packages/zmq/eventloop/zmqstream.py in _run_callback(self=<zmq.eventloop.zmqstream.ZMQStream object>, callback=<function null_wrapper>, *args=([<zmq.sugar.frame.Frame object>, <zmq.sugar.frame.Frame object>, <zmq.sugar.frame.Frame object>, <zmq.sugar.frame.Frame object>, <zmq.sugar.frame.Frame object>, <zmq.sugar.frame.Frame object>, <zmq.sugar.frame.Frame object>],), **kwargs={})\n    409         close our socket.\"\"\"\n    410         try:\n    411             # Use a NullContext to ensure that all StackContexts are run\n    412             # inside our blanket exception handler rather than outside.\n    413             with stack_context.NullContext():\n--> 414                 callback(*args, **kwargs)\n        callback = <function null_wrapper>\n        args = ([<zmq.sugar.frame.Frame object>, <zmq.sugar.frame.Frame object>, <zmq.sugar.frame.Frame object>, <zmq.sugar.frame.Frame object>, <zmq.sugar.frame.Frame object>, <zmq.sugar.frame.Frame object>, <zmq.sugar.frame.Frame object>],)\n        kwargs = {}\n    415         except:\n    416             gen_log.error(\"Uncaught exception, closing connection.\",\n    417                           exc_info=True)\n    418             # Close the socket on an uncaught exception from a user callback\n\n...........................................................................\n/home/victor/anaconda2/lib/python2.7/site-packages/tornado/stack_context.py in null_wrapper(*args=([<zmq.sugar.frame.Frame object>, <zmq.sugar.frame.Frame object>, <zmq.sugar.frame.Frame object>, <zmq.sugar.frame.Frame object>, <zmq.sugar.frame.Frame object>, <zmq.sugar.frame.Frame object>, <zmq.sugar.frame.Frame object>],), **kwargs={})\n    270         # Fast path when there are no active contexts.\n    271         def null_wrapper(*args, **kwargs):\n    272             try:\n    273                 current_state = _state.contexts\n    274                 _state.contexts = cap_contexts[0]\n--> 275                 return fn(*args, **kwargs)\n        args = ([<zmq.sugar.frame.Frame object>, <zmq.sugar.frame.Frame object>, <zmq.sugar.frame.Frame object>, <zmq.sugar.frame.Frame object>, <zmq.sugar.frame.Frame object>, <zmq.sugar.frame.Frame object>, <zmq.sugar.frame.Frame object>],)\n        kwargs = {}\n    276             finally:\n    277                 _state.contexts = current_state\n    278         null_wrapper._wrapped = True\n    279         return null_wrapper\n\n...........................................................................\n/home/victor/anaconda2/lib/python2.7/site-packages/ipykernel/kernelbase.py in dispatcher(msg=[<zmq.sugar.frame.Frame object>, <zmq.sugar.frame.Frame object>, <zmq.sugar.frame.Frame object>, <zmq.sugar.frame.Frame object>, <zmq.sugar.frame.Frame object>, <zmq.sugar.frame.Frame object>, <zmq.sugar.frame.Frame object>])\n    271         if self.control_stream:\n    272             self.control_stream.on_recv(self.dispatch_control, copy=False)\n    273 \n    274         def make_dispatcher(stream):\n    275             def dispatcher(msg):\n--> 276                 return self.dispatch_shell(stream, msg)\n        msg = [<zmq.sugar.frame.Frame object>, <zmq.sugar.frame.Frame object>, <zmq.sugar.frame.Frame object>, <zmq.sugar.frame.Frame object>, <zmq.sugar.frame.Frame object>, <zmq.sugar.frame.Frame object>, <zmq.sugar.frame.Frame object>]\n    277             return dispatcher\n    278 \n    279         for s in self.shell_streams:\n    280             s.on_recv(make_dispatcher(s), copy=False)\n\n...........................................................................\n/home/victor/anaconda2/lib/python2.7/site-packages/ipykernel/kernelbase.py in dispatch_shell(self=<ipykernel.ipkernel.IPythonKernel object>, stream=<zmq.eventloop.zmqstream.ZMQStream object>, msg={'buffers': [], 'content': {u'allow_stdin': True, u'code': u'# Initiate the linear regression model and plo...ssion, title, X_train, y_train, cv=5, n_jobs=-1)', u'silent': False, u'stop_on_error': True, u'store_history': True, u'user_expressions': {}}, 'header': {'date': '2017-08-06T14:22:21.581664', u'msg_id': u'9864A19710534A778D568CA476D23590', u'msg_type': u'execute_request', u'session': u'586F6F5767A84157A2DB2329A8B47ABC', u'username': u'username', u'version': u'5.0'}, 'metadata': {}, 'msg_id': u'9864A19710534A778D568CA476D23590', 'msg_type': u'execute_request', 'parent_header': {}})\n    223             self.log.error(\"UNKNOWN MESSAGE TYPE: %r\", msg_type)\n    224         else:\n    225             self.log.debug(\"%s: %s\", msg_type, msg)\n    226             self.pre_handler_hook()\n    227             try:\n--> 228                 handler(stream, idents, msg)\n        handler = <bound method IPythonKernel.execute_request of <ipykernel.ipkernel.IPythonKernel object>>\n        stream = <zmq.eventloop.zmqstream.ZMQStream object>\n        idents = ['586F6F5767A84157A2DB2329A8B47ABC']\n        msg = {'buffers': [], 'content': {u'allow_stdin': True, u'code': u'# Initiate the linear regression model and plo...ssion, title, X_train, y_train, cv=5, n_jobs=-1)', u'silent': False, u'stop_on_error': True, u'store_history': True, u'user_expressions': {}}, 'header': {'date': '2017-08-06T14:22:21.581664', u'msg_id': u'9864A19710534A778D568CA476D23590', u'msg_type': u'execute_request', u'session': u'586F6F5767A84157A2DB2329A8B47ABC', u'username': u'username', u'version': u'5.0'}, 'metadata': {}, 'msg_id': u'9864A19710534A778D568CA476D23590', 'msg_type': u'execute_request', 'parent_header': {}}\n    229             except Exception:\n    230                 self.log.error(\"Exception in message handler:\", exc_info=True)\n    231             finally:\n    232                 self.post_handler_hook()\n\n...........................................................................\n/home/victor/anaconda2/lib/python2.7/site-packages/ipykernel/kernelbase.py in execute_request(self=<ipykernel.ipkernel.IPythonKernel object>, stream=<zmq.eventloop.zmqstream.ZMQStream object>, ident=['586F6F5767A84157A2DB2329A8B47ABC'], parent={'buffers': [], 'content': {u'allow_stdin': True, u'code': u'# Initiate the linear regression model and plo...ssion, title, X_train, y_train, cv=5, n_jobs=-1)', u'silent': False, u'stop_on_error': True, u'store_history': True, u'user_expressions': {}}, 'header': {'date': '2017-08-06T14:22:21.581664', u'msg_id': u'9864A19710534A778D568CA476D23590', u'msg_type': u'execute_request', u'session': u'586F6F5767A84157A2DB2329A8B47ABC', u'username': u'username', u'version': u'5.0'}, 'metadata': {}, 'msg_id': u'9864A19710534A778D568CA476D23590', 'msg_type': u'execute_request', 'parent_header': {}})\n    385         if not silent:\n    386             self.execution_count += 1\n    387             self._publish_execute_input(code, parent, self.execution_count)\n    388 \n    389         reply_content = self.do_execute(code, silent, store_history,\n--> 390                                         user_expressions, allow_stdin)\n        user_expressions = {}\n        allow_stdin = True\n    391 \n    392         # Flush output before sending the reply.\n    393         sys.stdout.flush()\n    394         sys.stderr.flush()\n\n...........................................................................\n/home/victor/anaconda2/lib/python2.7/site-packages/ipykernel/ipkernel.py in do_execute(self=<ipykernel.ipkernel.IPythonKernel object>, code=u'# Initiate the linear regression model and plo...ssion, title, X_train, y_train, cv=5, n_jobs=-1)', silent=False, store_history=True, user_expressions={}, allow_stdin=True)\n    191 \n    192         self._forward_input(allow_stdin)\n    193 \n    194         reply_content = {}\n    195         try:\n--> 196             res = shell.run_cell(code, store_history=store_history, silent=silent)\n        res = undefined\n        shell.run_cell = <bound method ZMQInteractiveShell.run_cell of <ipykernel.zmqshell.ZMQInteractiveShell object>>\n        code = u'# Initiate the linear regression model and plo...ssion, title, X_train, y_train, cv=5, n_jobs=-1)'\n        store_history = True\n        silent = False\n    197         finally:\n    198             self._restore_input()\n    199 \n    200         if res.error_before_exec is not None:\n\n...........................................................................\n/home/victor/anaconda2/lib/python2.7/site-packages/ipykernel/zmqshell.py in run_cell(self=<ipykernel.zmqshell.ZMQInteractiveShell object>, *args=(u'# Initiate the linear regression model and plo...ssion, title, X_train, y_train, cv=5, n_jobs=-1)',), **kwargs={'silent': False, 'store_history': True})\n    496             )\n    497         self.payload_manager.write_payload(payload)\n    498 \n    499     def run_cell(self, *args, **kwargs):\n    500         self._last_traceback = None\n--> 501         return super(ZMQInteractiveShell, self).run_cell(*args, **kwargs)\n        self.run_cell = <bound method ZMQInteractiveShell.run_cell of <ipykernel.zmqshell.ZMQInteractiveShell object>>\n        args = (u'# Initiate the linear regression model and plo...ssion, title, X_train, y_train, cv=5, n_jobs=-1)',)\n        kwargs = {'silent': False, 'store_history': True}\n    502 \n    503     def _showtraceback(self, etype, evalue, stb):\n    504         # try to preserve ordering of tracebacks and print statements\n    505         sys.stdout.flush()\n\n...........................................................................\n/home/victor/anaconda2/lib/python2.7/site-packages/IPython/core/interactiveshell.py in run_cell(self=<ipykernel.zmqshell.ZMQInteractiveShell object>, raw_cell=u'# Initiate the linear regression model and plo...ssion, title, X_train, y_train, cv=5, n_jobs=-1)', store_history=True, silent=False, shell_futures=True)\n   2712                 self.displayhook.exec_result = result\n   2713 \n   2714                 # Execute the user code\n   2715                 interactivity = \"none\" if silent else self.ast_node_interactivity\n   2716                 has_raised = self.run_ast_nodes(code_ast.body, cell_name,\n-> 2717                    interactivity=interactivity, compiler=compiler, result=result)\n        interactivity = 'last_expr'\n        compiler = <IPython.core.compilerop.CachingCompiler instance>\n   2718                 \n   2719                 self.last_execution_succeeded = not has_raised\n   2720 \n   2721                 # Reset this so later displayed values do not modify the\n\n...........................................................................\n/home/victor/anaconda2/lib/python2.7/site-packages/IPython/core/interactiveshell.py in run_ast_nodes(self=<ipykernel.zmqshell.ZMQInteractiveShell object>, nodelist=[<_ast.Assign object>, <_ast.Assign object>, <_ast.Expr object>], cell_name='<ipython-input-23-2f7df9a43653>', interactivity='last', compiler=<IPython.core.compilerop.CachingCompiler instance>, result=<ExecutionResult object at 7f847ab1a450, executi..._before_exec=None error_in_exec=None result=None>)\n   2822                     return True\n   2823 \n   2824             for i, node in enumerate(to_run_interactive):\n   2825                 mod = ast.Interactive([node])\n   2826                 code = compiler(mod, cell_name, \"single\")\n-> 2827                 if self.run_code(code, result):\n        self.run_code = <bound method ZMQInteractiveShell.run_code of <ipykernel.zmqshell.ZMQInteractiveShell object>>\n        code = <code object <module> at 0x7f846640d330, file \"<ipython-input-23-2f7df9a43653>\", line 4>\n        result = <ExecutionResult object at 7f847ab1a450, executi..._before_exec=None error_in_exec=None result=None>\n   2828                     return True\n   2829 \n   2830             # Flush softspace\n   2831             if softspace(sys.stdout, 0):\n\n...........................................................................\n/home/victor/anaconda2/lib/python2.7/site-packages/IPython/core/interactiveshell.py in run_code(self=<ipykernel.zmqshell.ZMQInteractiveShell object>, code_obj=<code object <module> at 0x7f846640d330, file \"<ipython-input-23-2f7df9a43653>\", line 4>, result=<ExecutionResult object at 7f847ab1a450, executi..._before_exec=None error_in_exec=None result=None>)\n   2876         outflag = 1  # happens in more places, so it's easier as default\n   2877         try:\n   2878             try:\n   2879                 self.hooks.pre_run_code_hook()\n   2880                 #rprint('Running code', repr(code_obj)) # dbg\n-> 2881                 exec(code_obj, self.user_global_ns, self.user_ns)\n        code_obj = <code object <module> at 0x7f846640d330, file \"<ipython-input-23-2f7df9a43653>\", line 4>\n        self.user_global_ns = {'ALLOW_THREADS': 1, 'Annotation': <class 'matplotlib.text.Annotation'>, 'Arrow': <class 'matplotlib.patches.Arrow'>, 'Artist': <class 'matplotlib.artist.Artist'>, 'AutoLocator': <class 'matplotlib.ticker.AutoLocator'>, 'Axes': <class 'matplotlib.axes._axes.Axes'>, 'BUFSIZE': 8192, 'Button': <class 'matplotlib.widgets.Button'>, 'CLIP': 0, 'Circle': <class 'matplotlib.patches.Circle'>, ...}\n        self.user_ns = {'ALLOW_THREADS': 1, 'Annotation': <class 'matplotlib.text.Annotation'>, 'Arrow': <class 'matplotlib.patches.Arrow'>, 'Artist': <class 'matplotlib.artist.Artist'>, 'AutoLocator': <class 'matplotlib.ticker.AutoLocator'>, 'Axes': <class 'matplotlib.axes._axes.Axes'>, 'BUFSIZE': 8192, 'Button': <class 'matplotlib.widgets.Button'>, 'CLIP': 0, 'Circle': <class 'matplotlib.patches.Circle'>, ...}\n   2882             finally:\n   2883                 # Reset our crash handler in place\n   2884                 sys.excepthook = old_excepthook\n   2885         except SystemExit as e:\n\n...........................................................................\n/home/victor/workspace/new_york_city_taxi/<ipython-input-23-2f7df9a43653> in <module>()\n      1 \n      2 \n      3 # Initiate the linear regression model and plot the learning curve with default data\n----> 4 linear_regression = linear_model.LinearRegression()\n      5 title = \"Learning curve: (Linear Regression )\"\n      6 plot_learning_curve(linear_regression, title, X_train, y_train, cv=5, n_jobs=-1)\n      7 \n      8 \n      9 \n     10 \n\n...........................................................................\n/home/victor/workspace/new_york_city_taxi/<ipython-input-22-3939674a0cd1> in plot_learning_curve(estimator=LinearRegression(copy_X=True, fit_intercept=True, n_jobs=1, normalize=False), title='Learning curve: (Linear Regression )', X=         vendor_id      pickup_datetime  passeng...                 0  \n\n[1021050 rows x 33 columns], y=1011257     844\n178550     1001\n551460     1048\n...121958     1570\nName: trip_duration, dtype: int64, ylim=None, cv=5, n_jobs=-1, train_sizes=array([ 0.1  ,  0.325,  0.55 ,  0.775,  1.   ]))\n      7         plt.ylim(*ylim)\n      8     plt.xlabel(\"N (Training Set Sizes)\")\n      9     plt.ylabel(\"Mean Square Error\")\n     10     train_sizes, train_scores, test_scores = learning_curve(\n     11         estimator, X, y, cv=cv, n_jobs=n_jobs,\n---> 12         scoring=make_scorer(mean_squared_error), train_sizes=train_sizes)\n     13     train_scores_mean = np.mean(train_scores, axis=1)\n     14     train_scores_std = np.std(train_scores, axis=1)\n     15     test_scores_mean = np.mean(test_scores, axis=1)\n     16     test_scores_std = np.std(test_scores, axis=1)\n\n...........................................................................\n/home/victor/anaconda2/lib/python2.7/site-packages/sklearn/model_selection/_validation.py in learning_curve(estimator=LinearRegression(copy_X=True, fit_intercept=True, n_jobs=1, normalize=False), X=         vendor_id      pickup_datetime  passeng...                 0  \n\n[1021050 rows x 33 columns], y=1011257     844\n178550     1001\n551460     1048\n...121958     1570\nName: trip_duration, dtype: int64, groups=None, train_sizes=array([ 0.1  ,  0.325,  0.55 ,  0.775,  1.   ]), cv=KFold(n_splits=5, random_state=None, shuffle=False), scoring=make_scorer(mean_squared_error), exploit_incremental_learning=False, n_jobs=-1, pre_dispatch='all', verbose=0)\n    767             scorer, verbose) for train, test in cv_iter)\n    768     else:\n    769         out = parallel(delayed(_fit_and_score)(\n    770             clone(estimator), X, y, scorer, train[:n_train_samples], test,\n    771             verbose, parameters=None, fit_params=None, return_train_score=True)\n--> 772             for train, test in cv_iter\n        cv_iter = [(array([ 204210,  204211,  204212, ..., 1021047, 1021048, 1021049]), array([     0,      1,      2, ..., 204207, 204208, 204209])), (array([      0,       1,       2, ..., 1021047, 1021048, 1021049]), array([204210, 204211, 204212, ..., 408417, 408418, 408419])), (array([      0,       1,       2, ..., 1021047, 1021048, 1021049]), array([408420, 408421, 408422, ..., 612627, 612628, 612629])), (array([      0,       1,       2, ..., 1021047, 1021048, 1021049]), array([612630, 612631, 612632, ..., 816837, 816838, 816839])), (array([     0,      1,      2, ..., 816837, 816838, 816839]), array([ 816840,  816841,  816842, ..., 1021047, 1021048, 1021049]))]\n    773             for n_train_samples in train_sizes_abs)\n    774         out = np.array(out)\n    775         n_cv_folds = out.shape[0] // n_unique_ticks\n    776         out = out.reshape(n_cv_folds, n_unique_ticks, 2)\n\n...........................................................................\n/home/victor/anaconda2/lib/python2.7/site-packages/sklearn/externals/joblib/parallel.py in __call__(self=Parallel(n_jobs=-1), iterable=<generator object <genexpr>>)\n    763             if pre_dispatch == \"all\" or n_jobs == 1:\n    764                 # The iterable was consumed all at once by the above for loop.\n    765                 # No need to wait for async callbacks to trigger to\n    766                 # consumption.\n    767                 self._iterating = False\n--> 768             self.retrieve()\n        self.retrieve = <bound method Parallel.retrieve of Parallel(n_jobs=-1)>\n    769             # Make sure that we get a last message telling us we are done\n    770             elapsed_time = time.time() - self._start_time\n    771             self._print('Done %3i out of %3i | elapsed: %s finished',\n    772                         (len(self._output), len(self._output),\n\n---------------------------------------------------------------------------\nSub-process traceback:\n---------------------------------------------------------------------------\nValueError                                         Sun Aug  6 14:22:24 2017\nPID: 3265                  Python 2.7.13: /home/victor/anaconda2/bin/python\n...........................................................................\n/home/victor/anaconda2/lib/python2.7/site-packages/sklearn/externals/joblib/parallel.py in __call__(self=<sklearn.externals.joblib.parallel.BatchedCalls object>)\n    126     def __init__(self, iterator_slice):\n    127         self.items = list(iterator_slice)\n    128         self._size = len(self.items)\n    129 \n    130     def __call__(self):\n--> 131         return [func(*args, **kwargs) for func, args, kwargs in self.items]\n        func = <function _fit_and_score>\n        args = (LinearRegression(copy_X=True, fit_intercept=True, n_jobs=1, normalize=False),          vendor_id      pickup_datetime  passeng...                 0  \n\n[1021050 rows x 33 columns], 1011257     844\n178550     1001\n551460     1048\n...121958     1570\nName: trip_duration, dtype: int64, make_scorer(mean_squared_error), array([204210, 204211, 204212, ..., 285891, 285892, 285893]), memmap([     0,      1,      2, ..., 204207, 204208, 204209]), 0)\n        kwargs = {'fit_params': None, 'parameters': None, 'return_train_score': True}\n        self.items = [(<function _fit_and_score>, (LinearRegression(copy_X=True, fit_intercept=True, n_jobs=1, normalize=False),          vendor_id      pickup_datetime  passeng...                 0  \n\n[1021050 rows x 33 columns], 1011257     844\n178550     1001\n551460     1048\n...121958     1570\nName: trip_duration, dtype: int64, make_scorer(mean_squared_error), array([204210, 204211, 204212, ..., 285891, 285892, 285893]), memmap([     0,      1,      2, ..., 204207, 204208, 204209]), 0), {'fit_params': None, 'parameters': None, 'return_train_score': True})]\n    132 \n    133     def __len__(self):\n    134         return self._size\n    135 \n\n...........................................................................\n/home/victor/anaconda2/lib/python2.7/site-packages/sklearn/model_selection/_validation.py in _fit_and_score(estimator=LinearRegression(copy_X=True, fit_intercept=True, n_jobs=1, normalize=False), X=         vendor_id      pickup_datetime  passeng...                 0  \n\n[1021050 rows x 33 columns], y=1011257     844\n178550     1001\n551460     1048\n...121958     1570\nName: trip_duration, dtype: int64, scorer=make_scorer(mean_squared_error), train=array([204210, 204211, 204212, ..., 285891, 285892, 285893]), test=memmap([     0,      1,      2, ..., 204207, 204208, 204209]), verbose=0, parameters=None, fit_params={}, return_train_score=True, return_parameters=False, return_n_test_samples=False, return_times=False, error_score='raise')\n    233 \n    234     try:\n    235         if y_train is None:\n    236             estimator.fit(X_train, **fit_params)\n    237         else:\n--> 238             estimator.fit(X_train, y_train, **fit_params)\n        estimator.fit = <bound method LinearRegression.fit of LinearRegr..., fit_intercept=True, n_jobs=1, normalize=False)>\n        X_train =          vendor_id      pickup_datetime  passeng...                   0  \n\n[81684 rows x 33 columns]\n        y_train = 1183345     846\n1354941     975\n340936     1141\n...1042817     257\nName: trip_duration, dtype: int64\n        fit_params = {}\n    239 \n    240     except Exception as e:\n    241         # Note fit time as time until error\n    242         fit_time = time.time() - start_time\n\n...........................................................................\n/home/victor/anaconda2/lib/python2.7/site-packages/sklearn/linear_model/base.py in fit(self=LinearRegression(copy_X=True, fit_intercept=True, n_jobs=1, normalize=False), X=         vendor_id      pickup_datetime  passeng...                   0  \n\n[81684 rows x 33 columns], y=1183345     846\n1354941     975\n340936     1141\n...1042817     257\nName: trip_duration, dtype: int64, sample_weight=None)\n    507         self : returns an instance of self.\n    508         \"\"\"\n    509 \n    510         n_jobs_ = self.n_jobs\n    511         X, y = check_X_y(X, y, accept_sparse=['csr', 'csc', 'coo'],\n--> 512                          y_numeric=True, multi_output=True)\n    513 \n    514         if sample_weight is not None and np.atleast_1d(sample_weight).ndim > 1:\n    515             raise ValueError(\"Sample weights must be 1D array or scalar\")\n    516 \n\n...........................................................................\n/home/victor/anaconda2/lib/python2.7/site-packages/sklearn/utils/validation.py in check_X_y(X=         vendor_id      pickup_datetime  passeng...                   0  \n\n[81684 rows x 33 columns], y=1183345     846\n1354941     975\n340936     1141\n...1042817     257\nName: trip_duration, dtype: int64, accept_sparse=['csr', 'csc', 'coo'], dtype='numeric', order=None, copy=False, force_all_finite=True, ensure_2d=True, allow_nd=False, multi_output=True, ensure_min_samples=1, ensure_min_features=1, y_numeric=True, warn_on_dtype=False, estimator=None)\n    516     y_converted : object\n    517         The converted and validated y.\n    518     \"\"\"\n    519     X = check_array(X, accept_sparse, dtype, order, copy, force_all_finite,\n    520                     ensure_2d, allow_nd, ensure_min_samples,\n--> 521                     ensure_min_features, warn_on_dtype, estimator)\n        ensure_min_features = 1\n        warn_on_dtype = False\n        estimator = None\n    522     if multi_output:\n    523         y = check_array(y, 'csr', force_all_finite=True, ensure_2d=False,\n    524                         dtype=None)\n    525     else:\n\n...........................................................................\n/home/victor/anaconda2/lib/python2.7/site-packages/sklearn/utils/validation.py in check_array(array=array([[1, '2016-01-02 16:26:39', 2, ..., 0, 0, ...02-12 10:40:05', 1, ..., 0, 1, 0]], dtype=object), accept_sparse=['csr', 'csc', 'coo'], dtype=None, order=None, copy=False, force_all_finite=True, ensure_2d=True, allow_nd=False, ensure_min_samples=1, ensure_min_features=1, warn_on_dtype=False, estimator=None)\n    397             # To ensure that array flags are maintained\n    398             array = np.array(array, dtype=dtype, order=order, copy=copy)\n    399 \n    400         # make sure we actually converted to numeric:\n    401         if dtype_numeric and array.dtype.kind == \"O\":\n--> 402             array = array.astype(np.float64)\n        array = array([[1, '2016-01-02 16:26:39', 2, ..., 0, 0, ...02-12 10:40:05', 1, ..., 0, 1, 0]], dtype=object)\n        array.astype = <built-in method astype of numpy.ndarray object>\n    403         if not allow_nd and array.ndim >= 3:\n    404             raise ValueError(\"Found array with dim %d. %s expected <= 2.\"\n    405                              % (array.ndim, estimator_name))\n    406         if force_all_finite:\n\nValueError: invalid literal for float(): 2016-02-12\n___________________________________________________________________________"
     ]
    },
    {
     "data": {
      "image/png": "[encoded data removed]",
      "text/plain": [
       "<matplotlib.figure.Figure at 0x7f847ab1a0d0>"
      ]
     },
     "metadata": {},
     "output_type": "display_data"
    }
   ],
   "source": [
    "# Initiate the linear regression model and plot the learning curve with default data\n",
    "linear_regression = linear_model.LinearRegression()\n",
    "title = \"Learning curve: (Linear Regression )\"\n",
    "plot_learning_curve(linear_regression, title, X_train, y_train, cv=5, n_jobs=-1)"
   ]
  },
  {
   "cell_type": "code",
   "execution_count": 81,
   "metadata": {
    "collapsed": false
   },
   "outputs": [
    {
     "data": {
      "text/plain": [
       "vendor_id                                  int64\n",
       "pickup_datetime                   datetime64[ns]\n",
       "passenger_count                            int64\n",
       "pickup_longitude                         float64\n",
       "pickup_latitude                          float64\n",
       "dropoff_longitude                        float64\n",
       "dropoff_latitude                         float64\n",
       "store_and_fwd_flag                         int64\n",
       "trip_duration                              int64\n",
       "pickup_date                               object\n",
       "pickup_weekday                             int64\n",
       "pickup_hour                                int64\n",
       "pickup_isweekend                           int64\n",
       "Precipitationmm                          float64\n",
       "TemperatureC                             float64\n",
       "is_heavy_snow                              int64\n",
       "Conditions_Clear                           uint8\n",
       "Conditions_Haze                            uint8\n",
       "Conditions_Heavy Rain                      uint8\n",
       "Conditions_Heavy Snow                      uint8\n",
       "Conditions_Light Freezing Rain             uint8\n",
       "Conditions_Light Rain                      uint8\n",
       "Conditions_Light Snow                      uint8\n",
       "Conditions_Mostly Cloudy                   uint8\n",
       "Conditions_Overcast                        uint8\n",
       "Conditions_Partly Cloudy                   uint8\n",
       "Conditions_Rain                            uint8\n",
       "Conditions_Scattered Clouds                uint8\n",
       "Conditions_Snow                            uint8\n",
       "Conditions_Unknown                         uint8\n",
       "pickup_moment_afternoon                    uint8\n",
       "pickup_moment_evening                      uint8\n",
       "pickup_moment_morning                      uint8\n",
       "pickup_moment_night                        uint8\n",
       "dtype: object"
      ]
     },
     "execution_count": 81,
     "metadata": {},
     "output_type": "execute_result"
    }
   ],
   "source": [
    "train.dtypes"
   ]
  },
  {
   "cell_type": "code",
   "execution_count": 85,
   "metadata": {
    "collapsed": false
   },
   "outputs": [
    {
     "ename": "AttributeError",
     "evalue": "'function' object has no attribute 'shape'",
     "output_type": "error",
     "traceback": [
      "\u001b[0;31m---------------------------------------------------------------------------\u001b[0m",
      "\u001b[0;31mAttributeError\u001b[0m                            Traceback (most recent call last)",
      "\u001b[0;32m<ipython-input-85-3de001cc2de6>\u001b[0m in \u001b[0;36m<module>\u001b[0;34m()\u001b[0m\n\u001b[0;32m----> 1\u001b[0;31m \u001b[0mtest\u001b[0m\u001b[0;34m.\u001b[0m\u001b[0mshape\u001b[0m\u001b[0;34m\u001b[0m\u001b[0m\n\u001b[0m",
      "\u001b[0;31mAttributeError\u001b[0m: 'function' object has no attribute 'shape'"
     ]
    }
   ],
   "source": [
    "test.shape"
   ]
  }
 ],
 "metadata": {
  "kernelspec": {
   "display_name": "Python 2",
   "language": "python",
   "name": "python2"
  },
  "language_info": {
   "codemirror_mode": {
    "name": "ipython",
    "version": 2
   },
   "file_extension": ".py",
   "mimetype": "text/x-python",
   "name": "python",
   "nbconvert_exporter": "python",
   "pygments_lexer": "ipython2",
   "version": "2.7.13"
  }
 },
 "nbformat": 4,
 "nbformat_minor": 2
}
